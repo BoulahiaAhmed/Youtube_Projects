{
  "nbformat": 4,
  "nbformat_minor": 0,
  "metadata": {
    "colab": {
      "provenance": []
    },
    "kernelspec": {
      "name": "python3",
      "display_name": "Python 3"
    },
    "language_info": {
      "name": "python"
    }
  },
  "cells": [
    {
      "cell_type": "markdown",
      "source": [
        "# Creating the Train dataset"
      ],
      "metadata": {
        "id": "O7gf6zkWcACR"
      }
    },
    {
      "cell_type": "markdown",
      "source": [
        "**Using the free LLaMA 3-70B model from Groq and Pydantic to create clear and consistent training data.**"
      ],
      "metadata": {
        "id": "gye90gAscUl7"
      }
    },
    {
      "cell_type": "markdown",
      "source": [
        "## Import dataset with job offers"
      ],
      "metadata": {
        "id": "cjizVFBZc94c"
      }
    },
    {
      "cell_type": "code",
      "execution_count": null,
      "metadata": {
        "id": "vFU7wBNBeRzM"
      },
      "outputs": [],
      "source": [
        "import pandas as pd"
      ]
    },
    {
      "cell_type": "code",
      "source": [
        "df = pd.read_csv('/content/combined_jobs.csv')"
      ],
      "metadata": {
        "id": "n16N_NIAeYJ8"
      },
      "execution_count": null,
      "outputs": []
    },
    {
      "cell_type": "code",
      "source": [
        "df.shape"
      ],
      "metadata": {
        "colab": {
          "base_uri": "https://localhost:8080/"
        },
        "id": "Z-YgJNqbeYMR",
        "outputId": "132a3689-0e0d-420d-9d85-ef05d2cdf122"
      },
      "execution_count": null,
      "outputs": [
        {
          "output_type": "execute_result",
          "data": {
            "text/plain": [
              "(1079, 6)"
            ]
          },
          "metadata": {},
          "execution_count": 41
        }
      ]
    },
    {
      "cell_type": "code",
      "source": [
        "df.head()"
      ],
      "metadata": {
        "colab": {
          "base_uri": "https://localhost:8080/",
          "height": 1000
        },
        "id": "kQLUb10-eYPB",
        "outputId": "9a1cc33d-8411-4d68-c740-e79bdf850ab0"
      },
      "execution_count": null,
      "outputs": [
        {
          "output_type": "execute_result",
          "data": {
            "text/plain": [
              "                                   Position                Company_Name  \\\n",
              "0                                IT Manager  10 Percent Recruiting Ltd.   \n",
              "1                       Manager, IT Support                      Procom   \n",
              "2        Director of Information Technology   Southampton Financial Inc   \n",
              "3  Manager, Information Technology Services         Town of Tillsonburg   \n",
              "4                           Systems Manager                       Accor   \n",
              "\n",
              "                              Location Post_Month  Post_Year  \\\n",
              "0  Vancouver, British Columbia, Canada       June       2024   \n",
              "1             Toronto, Ontario, Canada       June       2024   \n",
              "2             Toronto, Ontario, Canada       June       2024   \n",
              "3         Tillsonburg, Ontario, Canada       June       2024   \n",
              "4           Winnipeg, Manitoba, Canada       June       2024   \n",
              "\n",
              "                                                                                                                                                                                                                                                                                                                                                                                                                                                                                                                                                                                                                                                                                                                                                                                                                                                                                                                                                                                                                                                                                                                                                                                                                                                                                                                                                                                                                                                                                                                                                                                                                                                                                                                                                                                                                                                                                                                                                                                                                                                                                                                                                                                                                                                                                                                                                                                                                                                                                                                                                                                                                                                                                                                                                                                                                                                                                                                                                                                                                                                                                                                                                                                                                                                                                                                                                                                                                                                                                                                                                                                                                                                                                                                                                                                                                                                                                                                                                                                                                                                                                                                                                                                                                                                                                                                                                                                                                                                                                                                                                                                                                                                                                                                                                                                                                                                                                                                                                                                                                                                                                                                                                                                                                                                                                                                                                                                                                                                                                                                                                                                                                                                                                                                                                                                                                                                                                                                                                                                                                                                                                                                                                                                                                                                                                                                                                                                                                                                                                                                                                                                                                                                  Details  \n",
              "0                                                                                                                                                                                                                                                                                                                                                                                                                                                                                                                                                                                                                                                                                                                                                                                                                                                                                                                                                                                                                                                                                                                                                                                                                                                                                                                                                                                                                                                                                                                                                                                                                                                                                                                                                                                                                                                                                                                                                                                                                                                                                                                                                                                                                                                                                                                                                                                                                                                                                                                                                                                                                                                                         Position Title: IT Manager\\n\\nLocation: Vancouver, BC\\n\\nType: Permanent, full-time, hybrid\\n\\nThe Position\\n\\nOur client is seeking a dynamic, communicative, and strategic IT Manager to join their team in the engineering space. Successful candidates will bring hands-on technical prowess, mastery of vendor management, exceptional stakeholder engagement and communication, and familiarity with engineering environments and technologies.\\n\\nWhat You'll Do\\n\\nIT Operational Management -\\n\\nOversee performance of third-party Managed Service Providers (MSPs) and Managed Security Service Providers (MSSPs), including monitoring service agreements covering hardware and network administration, helpdesk support, data backup, and retention.\\nEnsure IT infrastructure and information systems are secure, compatible, and scalable to meet current and future company needs.\\nLead IT project management and business analysis, collecting requirements, prioritizing projects, and ensuring alignment with business needs and budget.\\nPerform routine audits of MSP reports, including inventory, security patches, and administrative actions.\\nDraft and submit incident reports for adverse incidents affecting information systems.\\nDocument and evaluate change management activities impacting IT infrastructure and systems.\\nConduct security and risk assessments prior to implementing system changes and maintain assessment records.\\nLead disaster recovery efforts, ensuring plans are maintained and communicated.\\n\\nLeadership –\\n\\nDevelop and maintain policies, processes, and procedures for IT infrastructure, cybersecurity, and data management.\\nProvide training to system users on proper use and interaction with information systems and technology.\\nDeliver regulatory training on cybersecurity, insider threats, and information systems security.\\nPrepare annual department plans and budgets, including objectives, KPIs, hiring, training, and spending, for approval by the VP of Business Operations.\\nMonitor and report on actual spending against the IT budget.\\n\\nMandatories\\n\\nBachelor’s degree in Computer Science, Information Systems, or similar field.\\nExperience in an engineering environment utilizing technologies such as AutoCad, Rhino, etc.\\n10+ years of post-graduation industry experience.\\nProven experience as an IT Manager, or similar.\\nVendor management experience.\\nBroad knowledge in technical personnel management, network infrastructure, software applications, information systems security, and data management.\\nKnowledge of information security regulatory compliance (North America) is highly beneficial.\\nAbility to manage personnel, both internal and outsourced.\\n\\nIf you are interested in this position and meet the above criteria, please click the 'Apply for Job' button below to send your resume securely and in confidence directly to the recruiter in charge of this position. We thank all applicants; however, only those selected for interviews will be contacted.\\n\\nAll applicants must be legally entitled to work in Canada.\\n\\nWE APPRECIATE YOUR INTEREST IN 10 PERCENT RECRUITING LTD.\\n\\nWe invite you to become one of our satisfied candidates! 10 Percent Recruiting Ltd. believes in transparency with our candidates and our employers; we understand that open communication and collaboration are fundamental to our success. Our professional recruiters are passionate about helping you find a fulfilling job or career and ensuring your complete satisfaction with our process. We are committed to actively building lasting relationships and building trust by listening, following through, and keeping our word. We look forward to exceeding your expectations!\\n\\nLearn more about 10 Percent Recruiting Ltd. and view our current job opportunities, career tips, and tools at https://10percentrecruiting.com  \n",
              "1                                                             On behalf of our public sector client, PROCOM is looking for a Manager, IT Support\\n\\n\\nManager, IT Support -\\nJob Description:\\n\\nAs the IT Lead for our vendor-managed IT Support, you are a strategic, analytical, collaborative, and results focused leader who thrives on stellar service delivery and can multi-task in our dynamic environment. You are directly responsible for managing the daily operations of IT Support, ensuring effective vendor governance, and ensuring that the IT Support achieves premium customer service and operational excellence.\\n\\n\\nManager, IT Support -\\nResponsibilities\\n\\nOperational Management:\\nResponsible for user experience at 6 regional offices in Ontario and up to 900 employees\\nImplementing and monitoring of IT Service Management best practices and procedures including automation\\nMaintain and improve IT Support business continuity plan\\nLead the operational environment of high productivity and continuous service improvement\\nEnsure prompt, accurate proactive status and feedback of all incidents and service requests to customers and management\\nWork with the IT Support Team to develop training plans for IT Support\\nProactively drive and Lead the cross functional collaboration efforts between IT Support and Infrastructure Team Systems Admin teams to resolve issues promptly\\nEnsure correct staffing levels maintained: plan rosters; approve & schedule annual leave; arrange sickness cover and shift breaks to ensure IT Support coverage\\n\\n\\nCustomer Experience & Issue Resolution:\\nEnsure effective resolution of all service issues through effective governance and management of IT Support\\nAct as the point of escalation to ensure the IT Support team effectively and efficiently reviews, responds, and handles all client complaints, rectifies issues, and liaises with appropriate departments and/ or outside vendors to handle complex issues in a bid to provide effective solutions\\nWork cross-departmentally to address gaps in the IT Support process\\n\\n\\nProcess/Framework:\\nDefine, develop, or enhance foundational components of the IT Support team through statistical and data-driven processes\\nDevelop and maintain IT Support procedures based on ITIL best practices and ensure that procedures are followed\\nDefine, develop, and adhere to inventory tracking framework and accountabilities\\nObserve IT Support operation techniques, determine effectiveness and if applicable, implement new techniques adhering to the guiding principle of delivering the ultimate customer experience\\nCreate a mode of operations to be adhered to by team members in order to maintain good routine and orderliness and update and maintain SOP (Standard Operating Procedure)\\nKnowledge of the ITSM framework with goal of implementation and improvement in best practices in Incident and Change Management\\nGood to have: Knowledge of ITOM; Implementation of CMDB, integrating with ITSM\\n\\n\\nReporting:\\nExperience in developing IT Support reports & dashboard with a focus on analysis and trending issues\\nProvide regular weekly, monthly and quarterly reports based on industry best practice KPIs and leading indicators\\nDevelop and provide data and reporting of KPIs (Key Performance Indicators) and trends to IT department and others both scheduled and on-demand with a focus on executive level dashboards\\nAnalyze and improve SLA and KPI metrics, FCR (First Call Resolution), CSAT (Customer Satisfaction) and AHT (Average Handle Time)\\nDevelop daily, weekly, and monthly reports on IT Support team productivity\\n\\nManager, IT Support -Required Skills:\\n\\nSubstantial experience leading an IT Support team, including defining, building, executing, and streamlining processes to ensure efficiencies\\nExperience in IT end user support and business applications\\nITIL v3 Foundations certification required\\nDemonstrated leadership of end-user support, IT Support operations, desk side support, remote support, and system administration team experience\\nExperience as the point of escalation, strong analytical and technical problem-solving skills with ability to quickly adapt to dynamic environments\\nExperience with developing and adhering to user off/onboarding processes\\nProven ability to collaborate and communicate effectively both verbally and written with high level of customer service\\nStrong organizational skills, including planning and execution\\nA hands-on, self motivated individual with strong communication and facilitation skills with the ability to work with minimal supervision\\nA solution-oriented mindset with a strong orientation towards innovation and continuous service improvement of problem-solving techniques\\nProven ability to develop professional and effective working relationships with customers and key stakeholders\\nProven ability to work well under pressure and deal with constraints which are often outside of your control\\nExperience in vendor management, specifically in the escalation of major incidents\\n\\nTechnical Knowledge:\\n\\nProficient knowledge of enterprise IT Service Management solutions e.g. Service Now, Remedy, JIRA\\nExperience driving service improvements and offer specialist advice and support on IT-related issues\\nExperience triaging and managing incidents and service requests through a telephone, chat, web submissions, email, and appointment-based services\\nExperience troubleshooting errors and system issues by providing support to Tier 1, and Tier 2 teams\\nProficient knowledge of Microsoft applications (e.g. Office Suite, M365, Azure)\\nProficient experience of hardware devices such as Lenovo, Apple, Android\\nExperience with managing Audio Visual and communications technologies like Microsoft Teams and HP Poly\\nEffectively manage a device agnostics environment (i.e. Windows, iOS, Android, etc.)\\nExperience with administrating MDM platforms like InTune\\nExperience with administrating Active Directory, GPO and OUs\\nAdvanced knowledge with end user applications/toolsets like Citrix, RDP, Multifactor authentication, Single Sign On, MS Defender Anti virus/malware systems\\nExperience working around network technology stacks ranging from firewalls, switches, routers, access points, MPLS and ISPs\\n\\nManager, IT Support-\\nAssignment Start Date\\n\\nASAP – 6 months to start\\n\\n\\nManager, IT Support-\\nAssignment Location\\n\\nToronto (Hybrid)  \n",
              "2  Southampton Financials’ Mission: Bring Clarity to Insurance\\n\\nSouthampton Financial is a value-added strategic investor in the Canadian property and casualty distribution space. We are the majority equity owner of Alteri Insurance and have acquired Onlia Insurance and aha insurance in recent months. Our goal is to build the insurance brokerage of the future by combining leading-edge technology with high-quality brokers catering to the overall insurance needs of Canadians by providing them with customized solutions to suit their individual needs.\\n\\nAt Southampton Group of Companies, we're not just merging companies; we're fusing expertise, innovation, and a relentless commitment to excellence. Our purpose is clear: to disrupt the insurance landscape in Canada. As we assemble a team of industry heavyweights, our goal is to make this vision a reality. In our collaborative, fast-paced, and agile environment, we strongly believe in empowering every member of our team to take ownership of their role. Together, we're dedicated to building a best-in-class experience for our customers.\\n\\nThe IT Development & Operations Director will lead and manage the IT department, responsible for Development, Operations, Security, and Compliance of the entire IT platform for a growing digital insurance brokerage company. The main objective is to create and execute an IT roadmap of projects to achieve the company’s business plan (application and domain integration after multiple acquisitions and creating a future-proof technology stack for further profitable growth). This role involves building out more mature processes and teams for both the Agile development and Operations support areas of the IT department, as well as managing the ecosystem of vendors and partners that are part of the digital platform.\\n\\nThe IT Development & Operations Director requires experience in developing and building out application platforms (preferably in the insurance industry) with a good understanding of the AWS stack. You should know how to build cross-platform web applications and be familiar with security guidelines and frameworks for the web.\\n\\nKey Accountabilities:\\n\\nKA1 People Leader: Lead a multidisciplinary team of Business Analysts, Development, Quality Assurance, Data Engineers, and the IT Operations Manager.\\n\\nKA2 Target Architecture: Maintain, develop, and ensure compliance of the IT and Data architecture in line with integration plans and company strategy. Ensure effective, secure, and available system architecture and consistent data storage and maintenance.\\n\\nKA3 Development & Code Quality: Lead and manage web/external developers, BA, and QA teams. Support them in integrating and building out the capabilities of the company’s digital brokerage platform and infrastructure. Develop a strategy to meet the company’s goals and improve service quality. Assure the quality of the codebase, monitor it constantly, ensure the right third-party frameworks are used, and collaborate with the product owner on improving/refactoring the codebase.\\n\\nKA4 Release Management & QA: Plan the release of project deliverables and oversee the release life cycle. Oversee the team establishing and enforcing quality standards for products and services. Build and release new features on the platform and work with the development team to deliver new features for each sprint as the company expands its products nationally.\\n\\nKA5 Data Migration and Analytics capabilities: Align on data requirements needed to migrate insurance portfolios from another platform to a broker management system. Ensure the buildout of the data warehousing, data management, and mining capabilities of the organization.\\n\\nKA6 Vendor management: Manage contacts and contracts with development partners. Ensure vendor delivery aligns with needs and contracts. Anticipate potential changes and maintain good relationships with partners.\\n\\nKA7 Governance: Create and maintain a structure for IT governance, security, and control frameworks for the group of companies.\\n\\nQualifications and Competencies:\\n\\nProven experience in IT with at least a bachelor’s degree, preferably with a specialization in IT.\\nAt least 5 years’ experience in a comparable role.\\nIn-depth knowledge and experience of (AWS-based) IT-architecture solutions, including integration, security, and performance aspects.\\nKnowledge of and experience with insurance platforms such as Guidewire, Duck Creek, and Applied Systems.\\nExperience with the following Technology Stack: Angular, React, Vue, Java, Sitecore, SQL, Postgres, MongoDB, Salesforce, Mulesoft, Azure Data Warehouse, AWS EC2 and Lambda\\nAbility to translate business requirements into IT solutions that fit the target architecture and infrastructure setup.\\nProvide leadership, direction, and definition for the development and analytics teams and the IT Operations Manager, including planning, scheduling, test coordination, and implementation.\\nManage risks and resolve issues affecting release scope, schedule, and quality.\\nWork with QA, Development, DevOps, and Product teams to ensure development projects adhere to release processes and change procedure guidelines.\\nDesign, establish, and maintain a departmental structure to accomplish organizational goals and objectives effectively and efficiently.\\nCollaborate with decision-makers in other departments to identify, recommend, develop, implement, and support cost-effective technology solutions for all aspects of the organization.\\nHands-on approach.\\nAbility to work independently and collaborate with various roles and disciplines within the organization.\\n\\nWORKING AT SOUTHAMPTON FINANCIAL\\n\\nOur mission is to cultivate a workforce that is diverse and inclusive, with an unwavering commitment to creating an open, equitable, and respectful workplace for all. We are deeply dedicated to fostering an environment where every individual is genuinely respected, included, and empowered to contribute their unique perspectives and talents.\\n\\nWe encourage submissions from candidates who represent the various dimensions of diversity. We are committed to providing barrier-free and accessible employment practices.\\n\\nSouthampton Financial is an equal-opportunity employer and provides accommodations upon request to ensure all candidates feel comfortable and supported throughout the selection process.  \n",
              "3                                                                                                                                                                                                                                                                                                                                                                                                                                                                                                                                                                                                                                                                                                                                                                                                                                                                                                                                                                                                                                                                                             The Town of Tillsonburg is looking for a Manager, Information Technology Services who would be responsible for planning, development and maintenance of a comprehensive information technology program and strategy for the Town. Coordinates Town-wide information systems planning and ensures mid to long-term plans are prioritized and consistent with available funding. Works closely with Town Department Heads and staff to co-ordinate automated systems operations for the Town.\\n\\nThis is a permanent full-time position with an excellent benefits package including immediate group benefits coverage, OMERS defined pension plan and free Employee Health Club Membership at the Tillsonburg Community Centre.\\n\\nDepartment: Corporate Services\\n\\nDivision: Information Technology Services\\n\\nReports To: Director of Corporate Services/Clerk\\n\\nHourly rate: $48.66 - $56.92/hour\\n\\nWeekly hours: 40\\n\\nCriminal Record Check is required for this position.\\n\\nInterested candidates please apply prior to the end of a business day on Thursday July 18, 2024\\n\\nResponsibilities\\n\\nDirects, manages and coordinates the Information Systems’ activities\\nDevelops and implements a Town-wide long-range information systems strategy which involves facilitating discussions with Town management regarding current and anticipated information services requirements, applications development and enhancement requests\\nPrioritizes the acquisition, development and/or implementation of new and enhanced information technology systems to meet user needs\\nCoordinates Town-wide acquisition of software and hardware, including reviewing department requests and making recommendations on alternative options\\nDevelops and implements a long-range funding plan for maintenance and replacement of hardware\\nRecommends Town-wide standards for hardware, software and local area networks\\nOversees the operation and maintenance of telephone and other communication systems\\nManages customer support for business applications, personal computers, networks and telecommunication equipment\\nDevelops, plans and implements goals, objectives and work plans\\nEnsures compliance with legislative and regulatory requirements and professional standards\\nEvaluates services and directs the development and implementation of new/improved programs and procedures\\nRecommends and communicates appropriate application of policy and operational procedures\\nPrepares and presents written and oral reports and recommendations for consideration of the Director of Corporate Services/Clerk\\nServes as a technical advisor\\nParticipates in Management team meetings during the review and development of IT technological approaches in order to ensure achievement of Town goals and objectives\\nMonitors and reviews IT operations in order to ensure customer satisfaction and efficient, effective Town operations and, as required, develops and implements staff development programs\\nIn conjunction with the Director of Corporate Services/Clerk, develops and oversees implementation of systems that encourage productive and exceptional performance throughout the organization\\nPrepares the annual Capital and Operating Budgets for IT in cooperation with the Clerk\\nManages and assures compliances of all software licensing agreements\\nMonitors the network on a daily basis and corrects all network problems, referring unusual problems to outside consultants or vendors\\nIf requested by the Director of Corporate Services/Clerk, attends meetings of Town Council to answer specific questions about the Town’s IT systems\\nIf requested by the Director of Corporate Services/Clerk, assists with special projects and assists neighbouring municipalities with IT problems\\nFollow safe work practices related to job responsibilities and have basic understanding of the Occupational Health & Safety Act as it relates to the work environment\\nAdhere to all Town policies and procedures\\nPerform other duties as assigned by Supervisor\\n\\nQualifications\\n\\nPost-secondary degree or diploma in Computer Science, Information Technology or related field\\nFive (5) years of relevant progressive experience\\nTwo (2) years of leadership and supervisory experience\\nStrong knowledge of operating systems, networks, virtualized server environments and storage.\\nHands-on experience in the administration of enterprise IT networks & infrastructure\\nProficiency in the hands-on use of cybersecurity tools and technologies\\nExcellent interpersonal, communication and presentation skills\\nAbility to be self-directed and work independently\\nStrong organizational skills\\nAbility to prioritize competing tasks and meet multiple deadlines\\nExperience managing IT projects using project management methodologies an asset\\n\\nAbout The Recruitment Process\\n\\nAll new Town of Tillsonburg employees are required to complete a police record check.\\n\\nThe Town will accommodate any individual needs you have throughout the recruitment process in accordance with the\\n\\nThe Town of Tillsonburg is an equal opportunity employer and all information collected will be used in accordance with the Municipal Freedom of Information and Protection of Privacy Act for the purpose of job selection.\\n\\nWe thank all those who apply for positions, but only applicants invited for an interview will be contacted.\\n\\nPowered by JazzHR\\n\\ny5iPZIIvy5  \n",
              "4                                                                                                                                                                                                                                                                                                                                                                                                                                                                                                                                                                                                                                                                                                                                                                                                                                                                                                                                                                                                                                                                                                                                                                                                                                                                                                                                                                                                                                                                                                                                                                                                                                                                                                                                                                                                                                                                                                                                                                                                                                                                                                                                                                                                                                                                                Company Description\\n\\n\"Why work for Accor?\"\\n\\nWe are far more than a worldwide leader. We welcome you as you are and you can find a job and brand that matches your personality. We support you to grow and learn every day, making sure that work brings purpose to your life, so that during your journey with us, you can continue to explore Accor’s limitless possibilities.\\n\\nBy joining Accor, every chapter of your story is yours to write and together we can imagine tomorrow's hospitality. Discover the life that awaits you at Accor, visit https://careers.accor.com/\\n\\nDo what you love, care for the world, dare to challenge the status quo! #BELIMITLESS\\n\\nJob Description\\n\\nReporting to the Area IT Manager and the Director of Finance, the Systems manager is an integral part of the leadership team. Focused on all areas of technology services with a key focus on hardware, operating systems and security.\\n\\nWhat You Will Be Doing\\n\\nConsistently offer professional, friendly and engaging service to all internal and external guests\\nLead and manage the hotel’s day-to-day IT activity ensuring all standards are followed\\nA confident & dynamic speaker, able to communicate and interact effectively with all levels of an organization\\nExcellent communication, analytical and problem-solving skills\\nComply with the company’s IT Security Policy as it pertains to hardware, software, security/data safety\\nAssist with preparation of the annual IT budget for the hotel/s and working with the hotel team, administer that budget in a fiscally responsible manner\\nSupport the hotel’s standalone systems, including but not limited to, systems connected to the Network, point of sales systems, all related interfaces, file server, UPS related devices\\nExecute all IT projects\\nWork and consult with hardware and software vendors to setup and maintain all required equipment\\nEnsure that the usage and installation of software is in accordance with the software licensing laws\\nLiaison for the hotel team and Help desk. Work to solve root issues resulting in help desk tickets\\nWork with department tech champions to ensure smooth working of software and hardware. Recommend improvements on established incident management processes.\\nResponsible for maintaining Corporate IT standards\\nBalance operational, administrative and Colleague needs\\nFollow departmental policies and procedures\\nFollow all safety policies\\nProvides training/guidance to hotel team on hardware and software applications.\\nRecommends improvements on established incident management processes.\\nEnsure monitoring of ALL recovery systems (system backup and virus protection)\\nImplement and support ACCOR best practices.\\nLook for opportunities for new technology that may be beneficial to driving efficiency or supporting internal/external customer satisfaction.\\nParticipate after-hours on call support(24/7) with the regional IT team.\\nParticipate in management of projects as directed by RSM\\nOther duties as assigned\\n\\nQualifications\\n\\nUniversity degree or equivalent experience\\nA+ Certification\\nMicrosoft Certified System Engineer\\nCisco certification or equivalent experience\\nUnderstanding of hotel operations, an asset.\\nGood verbal & written communication skills\\nStrong interpersonal skills\\nSelf-starter with a strong sense of commitment.\\nAbility to work as part of a team\\nPrevious supervisory and training experience an asset\\nAbility to focus attention on guest needs, always remaining calm and courteous\\n\\nAdditional Information\\n\\nLocated in the heart of vibrant downtown Winnipeg, Manitoba -- at the historic corner of Portage and Main -- Fairmont Winnipeg luxury hotel extends the naturally warm reception of the Prairies. Just step outside our Winnipeg hotel and the city is at your feet.\\n\\nOur Commitment To Diversity & Inclusion\\n\\nWe are an inclusive company and our ambition is to attract, recruit and promote diverse talent.\\n\\nVisa Requirements: To be eligible for employment with Fairmont Winnipeg, you must be in possession of a working visa for Canada. We do not provide offer letters to applicants seeking to get their work visas. Applicants must have their work visas in place prior to applying.  "
            ],
            "text/html": [
              "\n",
              "  <div id=\"df-4596f328-098e-4263-8a0b-f22edca2cce9\" class=\"colab-df-container\">\n",
              "    <div>\n",
              "<style scoped>\n",
              "    .dataframe tbody tr th:only-of-type {\n",
              "        vertical-align: middle;\n",
              "    }\n",
              "\n",
              "    .dataframe tbody tr th {\n",
              "        vertical-align: top;\n",
              "    }\n",
              "\n",
              "    .dataframe thead th {\n",
              "        text-align: right;\n",
              "    }\n",
              "</style>\n",
              "<table border=\"1\" class=\"dataframe\">\n",
              "  <thead>\n",
              "    <tr style=\"text-align: right;\">\n",
              "      <th></th>\n",
              "      <th>Position</th>\n",
              "      <th>Company_Name</th>\n",
              "      <th>Location</th>\n",
              "      <th>Post_Month</th>\n",
              "      <th>Post_Year</th>\n",
              "      <th>Details</th>\n",
              "    </tr>\n",
              "  </thead>\n",
              "  <tbody>\n",
              "    <tr>\n",
              "      <th>0</th>\n",
              "      <td>IT Manager</td>\n",
              "      <td>10 Percent Recruiting Ltd.</td>\n",
              "      <td>Vancouver, British Columbia, Canada</td>\n",
              "      <td>June</td>\n",
              "      <td>2024</td>\n",
              "      <td>Position Title: IT Manager\\n\\nLocation: Vancouver, BC\\n\\nType: Permanent, full-time, hybrid\\n\\nThe Position\\n\\nOur client is seeking a dynamic, communicative, and strategic IT Manager to join their team in the engineering space. Successful candidates will bring hands-on technical prowess, mastery of vendor management, exceptional stakeholder engagement and communication, and familiarity with engineering environments and technologies.\\n\\nWhat You'll Do\\n\\nIT Operational Management -\\n\\nOversee performance of third-party Managed Service Providers (MSPs) and Managed Security Service Providers (MSSPs), including monitoring service agreements covering hardware and network administration, helpdesk support, data backup, and retention.\\nEnsure IT infrastructure and information systems are secure, compatible, and scalable to meet current and future company needs.\\nLead IT project management and business analysis, collecting requirements, prioritizing projects, and ensuring alignment with business needs and budget.\\nPerform routine audits of MSP reports, including inventory, security patches, and administrative actions.\\nDraft and submit incident reports for adverse incidents affecting information systems.\\nDocument and evaluate change management activities impacting IT infrastructure and systems.\\nConduct security and risk assessments prior to implementing system changes and maintain assessment records.\\nLead disaster recovery efforts, ensuring plans are maintained and communicated.\\n\\nLeadership –\\n\\nDevelop and maintain policies, processes, and procedures for IT infrastructure, cybersecurity, and data management.\\nProvide training to system users on proper use and interaction with information systems and technology.\\nDeliver regulatory training on cybersecurity, insider threats, and information systems security.\\nPrepare annual department plans and budgets, including objectives, KPIs, hiring, training, and spending, for approval by the VP of Business Operations.\\nMonitor and report on actual spending against the IT budget.\\n\\nMandatories\\n\\nBachelor’s degree in Computer Science, Information Systems, or similar field.\\nExperience in an engineering environment utilizing technologies such as AutoCad, Rhino, etc.\\n10+ years of post-graduation industry experience.\\nProven experience as an IT Manager, or similar.\\nVendor management experience.\\nBroad knowledge in technical personnel management, network infrastructure, software applications, information systems security, and data management.\\nKnowledge of information security regulatory compliance (North America) is highly beneficial.\\nAbility to manage personnel, both internal and outsourced.\\n\\nIf you are interested in this position and meet the above criteria, please click the 'Apply for Job' button below to send your resume securely and in confidence directly to the recruiter in charge of this position. We thank all applicants; however, only those selected for interviews will be contacted.\\n\\nAll applicants must be legally entitled to work in Canada.\\n\\nWE APPRECIATE YOUR INTEREST IN 10 PERCENT RECRUITING LTD.\\n\\nWe invite you to become one of our satisfied candidates! 10 Percent Recruiting Ltd. believes in transparency with our candidates and our employers; we understand that open communication and collaboration are fundamental to our success. Our professional recruiters are passionate about helping you find a fulfilling job or career and ensuring your complete satisfaction with our process. We are committed to actively building lasting relationships and building trust by listening, following through, and keeping our word. We look forward to exceeding your expectations!\\n\\nLearn more about 10 Percent Recruiting Ltd. and view our current job opportunities, career tips, and tools at https://10percentrecruiting.com</td>\n",
              "    </tr>\n",
              "    <tr>\n",
              "      <th>1</th>\n",
              "      <td>Manager, IT Support</td>\n",
              "      <td>Procom</td>\n",
              "      <td>Toronto, Ontario, Canada</td>\n",
              "      <td>June</td>\n",
              "      <td>2024</td>\n",
              "      <td>On behalf of our public sector client, PROCOM is looking for a Manager, IT Support\\n\\n\\nManager, IT Support -\\nJob Description:\\n\\nAs the IT Lead for our vendor-managed IT Support, you are a strategic, analytical, collaborative, and results focused leader who thrives on stellar service delivery and can multi-task in our dynamic environment. You are directly responsible for managing the daily operations of IT Support, ensuring effective vendor governance, and ensuring that the IT Support achieves premium customer service and operational excellence.\\n\\n\\nManager, IT Support -\\nResponsibilities\\n\\nOperational Management:\\nResponsible for user experience at 6 regional offices in Ontario and up to 900 employees\\nImplementing and monitoring of IT Service Management best practices and procedures including automation\\nMaintain and improve IT Support business continuity plan\\nLead the operational environment of high productivity and continuous service improvement\\nEnsure prompt, accurate proactive status and feedback of all incidents and service requests to customers and management\\nWork with the IT Support Team to develop training plans for IT Support\\nProactively drive and Lead the cross functional collaboration efforts between IT Support and Infrastructure Team Systems Admin teams to resolve issues promptly\\nEnsure correct staffing levels maintained: plan rosters; approve &amp; schedule annual leave; arrange sickness cover and shift breaks to ensure IT Support coverage\\n\\n\\nCustomer Experience &amp; Issue Resolution:\\nEnsure effective resolution of all service issues through effective governance and management of IT Support\\nAct as the point of escalation to ensure the IT Support team effectively and efficiently reviews, responds, and handles all client complaints, rectifies issues, and liaises with appropriate departments and/ or outside vendors to handle complex issues in a bid to provide effective solutions\\nWork cross-departmentally to address gaps in the IT Support process\\n\\n\\nProcess/Framework:\\nDefine, develop, or enhance foundational components of the IT Support team through statistical and data-driven processes\\nDevelop and maintain IT Support procedures based on ITIL best practices and ensure that procedures are followed\\nDefine, develop, and adhere to inventory tracking framework and accountabilities\\nObserve IT Support operation techniques, determine effectiveness and if applicable, implement new techniques adhering to the guiding principle of delivering the ultimate customer experience\\nCreate a mode of operations to be adhered to by team members in order to maintain good routine and orderliness and update and maintain SOP (Standard Operating Procedure)\\nKnowledge of the ITSM framework with goal of implementation and improvement in best practices in Incident and Change Management\\nGood to have: Knowledge of ITOM; Implementation of CMDB, integrating with ITSM\\n\\n\\nReporting:\\nExperience in developing IT Support reports &amp; dashboard with a focus on analysis and trending issues\\nProvide regular weekly, monthly and quarterly reports based on industry best practice KPIs and leading indicators\\nDevelop and provide data and reporting of KPIs (Key Performance Indicators) and trends to IT department and others both scheduled and on-demand with a focus on executive level dashboards\\nAnalyze and improve SLA and KPI metrics, FCR (First Call Resolution), CSAT (Customer Satisfaction) and AHT (Average Handle Time)\\nDevelop daily, weekly, and monthly reports on IT Support team productivity\\n\\nManager, IT Support -Required Skills:\\n\\nSubstantial experience leading an IT Support team, including defining, building, executing, and streamlining processes to ensure efficiencies\\nExperience in IT end user support and business applications\\nITIL v3 Foundations certification required\\nDemonstrated leadership of end-user support, IT Support operations, desk side support, remote support, and system administration team experience\\nExperience as the point of escalation, strong analytical and technical problem-solving skills with ability to quickly adapt to dynamic environments\\nExperience with developing and adhering to user off/onboarding processes\\nProven ability to collaborate and communicate effectively both verbally and written with high level of customer service\\nStrong organizational skills, including planning and execution\\nA hands-on, self motivated individual with strong communication and facilitation skills with the ability to work with minimal supervision\\nA solution-oriented mindset with a strong orientation towards innovation and continuous service improvement of problem-solving techniques\\nProven ability to develop professional and effective working relationships with customers and key stakeholders\\nProven ability to work well under pressure and deal with constraints which are often outside of your control\\nExperience in vendor management, specifically in the escalation of major incidents\\n\\nTechnical Knowledge:\\n\\nProficient knowledge of enterprise IT Service Management solutions e.g. Service Now, Remedy, JIRA\\nExperience driving service improvements and offer specialist advice and support on IT-related issues\\nExperience triaging and managing incidents and service requests through a telephone, chat, web submissions, email, and appointment-based services\\nExperience troubleshooting errors and system issues by providing support to Tier 1, and Tier 2 teams\\nProficient knowledge of Microsoft applications (e.g. Office Suite, M365, Azure)\\nProficient experience of hardware devices such as Lenovo, Apple, Android\\nExperience with managing Audio Visual and communications technologies like Microsoft Teams and HP Poly\\nEffectively manage a device agnostics environment (i.e. Windows, iOS, Android, etc.)\\nExperience with administrating MDM platforms like InTune\\nExperience with administrating Active Directory, GPO and OUs\\nAdvanced knowledge with end user applications/toolsets like Citrix, RDP, Multifactor authentication, Single Sign On, MS Defender Anti virus/malware systems\\nExperience working around network technology stacks ranging from firewalls, switches, routers, access points, MPLS and ISPs\\n\\nManager, IT Support-\\nAssignment Start Date\\n\\nASAP – 6 months to start\\n\\n\\nManager, IT Support-\\nAssignment Location\\n\\nToronto (Hybrid)</td>\n",
              "    </tr>\n",
              "    <tr>\n",
              "      <th>2</th>\n",
              "      <td>Director of Information Technology</td>\n",
              "      <td>Southampton Financial Inc</td>\n",
              "      <td>Toronto, Ontario, Canada</td>\n",
              "      <td>June</td>\n",
              "      <td>2024</td>\n",
              "      <td>Southampton Financials’ Mission: Bring Clarity to Insurance\\n\\nSouthampton Financial is a value-added strategic investor in the Canadian property and casualty distribution space. We are the majority equity owner of Alteri Insurance and have acquired Onlia Insurance and aha insurance in recent months. Our goal is to build the insurance brokerage of the future by combining leading-edge technology with high-quality brokers catering to the overall insurance needs of Canadians by providing them with customized solutions to suit their individual needs.\\n\\nAt Southampton Group of Companies, we're not just merging companies; we're fusing expertise, innovation, and a relentless commitment to excellence. Our purpose is clear: to disrupt the insurance landscape in Canada. As we assemble a team of industry heavyweights, our goal is to make this vision a reality. In our collaborative, fast-paced, and agile environment, we strongly believe in empowering every member of our team to take ownership of their role. Together, we're dedicated to building a best-in-class experience for our customers.\\n\\nThe IT Development &amp; Operations Director will lead and manage the IT department, responsible for Development, Operations, Security, and Compliance of the entire IT platform for a growing digital insurance brokerage company. The main objective is to create and execute an IT roadmap of projects to achieve the company’s business plan (application and domain integration after multiple acquisitions and creating a future-proof technology stack for further profitable growth). This role involves building out more mature processes and teams for both the Agile development and Operations support areas of the IT department, as well as managing the ecosystem of vendors and partners that are part of the digital platform.\\n\\nThe IT Development &amp; Operations Director requires experience in developing and building out application platforms (preferably in the insurance industry) with a good understanding of the AWS stack. You should know how to build cross-platform web applications and be familiar with security guidelines and frameworks for the web.\\n\\nKey Accountabilities:\\n\\nKA1 People Leader: Lead a multidisciplinary team of Business Analysts, Development, Quality Assurance, Data Engineers, and the IT Operations Manager.\\n\\nKA2 Target Architecture: Maintain, develop, and ensure compliance of the IT and Data architecture in line with integration plans and company strategy. Ensure effective, secure, and available system architecture and consistent data storage and maintenance.\\n\\nKA3 Development &amp; Code Quality: Lead and manage web/external developers, BA, and QA teams. Support them in integrating and building out the capabilities of the company’s digital brokerage platform and infrastructure. Develop a strategy to meet the company’s goals and improve service quality. Assure the quality of the codebase, monitor it constantly, ensure the right third-party frameworks are used, and collaborate with the product owner on improving/refactoring the codebase.\\n\\nKA4 Release Management &amp; QA: Plan the release of project deliverables and oversee the release life cycle. Oversee the team establishing and enforcing quality standards for products and services. Build and release new features on the platform and work with the development team to deliver new features for each sprint as the company expands its products nationally.\\n\\nKA5 Data Migration and Analytics capabilities: Align on data requirements needed to migrate insurance portfolios from another platform to a broker management system. Ensure the buildout of the data warehousing, data management, and mining capabilities of the organization.\\n\\nKA6 Vendor management: Manage contacts and contracts with development partners. Ensure vendor delivery aligns with needs and contracts. Anticipate potential changes and maintain good relationships with partners.\\n\\nKA7 Governance: Create and maintain a structure for IT governance, security, and control frameworks for the group of companies.\\n\\nQualifications and Competencies:\\n\\nProven experience in IT with at least a bachelor’s degree, preferably with a specialization in IT.\\nAt least 5 years’ experience in a comparable role.\\nIn-depth knowledge and experience of (AWS-based) IT-architecture solutions, including integration, security, and performance aspects.\\nKnowledge of and experience with insurance platforms such as Guidewire, Duck Creek, and Applied Systems.\\nExperience with the following Technology Stack: Angular, React, Vue, Java, Sitecore, SQL, Postgres, MongoDB, Salesforce, Mulesoft, Azure Data Warehouse, AWS EC2 and Lambda\\nAbility to translate business requirements into IT solutions that fit the target architecture and infrastructure setup.\\nProvide leadership, direction, and definition for the development and analytics teams and the IT Operations Manager, including planning, scheduling, test coordination, and implementation.\\nManage risks and resolve issues affecting release scope, schedule, and quality.\\nWork with QA, Development, DevOps, and Product teams to ensure development projects adhere to release processes and change procedure guidelines.\\nDesign, establish, and maintain a departmental structure to accomplish organizational goals and objectives effectively and efficiently.\\nCollaborate with decision-makers in other departments to identify, recommend, develop, implement, and support cost-effective technology solutions for all aspects of the organization.\\nHands-on approach.\\nAbility to work independently and collaborate with various roles and disciplines within the organization.\\n\\nWORKING AT SOUTHAMPTON FINANCIAL\\n\\nOur mission is to cultivate a workforce that is diverse and inclusive, with an unwavering commitment to creating an open, equitable, and respectful workplace for all. We are deeply dedicated to fostering an environment where every individual is genuinely respected, included, and empowered to contribute their unique perspectives and talents.\\n\\nWe encourage submissions from candidates who represent the various dimensions of diversity. We are committed to providing barrier-free and accessible employment practices.\\n\\nSouthampton Financial is an equal-opportunity employer and provides accommodations upon request to ensure all candidates feel comfortable and supported throughout the selection process.</td>\n",
              "    </tr>\n",
              "    <tr>\n",
              "      <th>3</th>\n",
              "      <td>Manager, Information Technology Services</td>\n",
              "      <td>Town of Tillsonburg</td>\n",
              "      <td>Tillsonburg, Ontario, Canada</td>\n",
              "      <td>June</td>\n",
              "      <td>2024</td>\n",
              "      <td>The Town of Tillsonburg is looking for a Manager, Information Technology Services who would be responsible for planning, development and maintenance of a comprehensive information technology program and strategy for the Town. Coordinates Town-wide information systems planning and ensures mid to long-term plans are prioritized and consistent with available funding. Works closely with Town Department Heads and staff to co-ordinate automated systems operations for the Town.\\n\\nThis is a permanent full-time position with an excellent benefits package including immediate group benefits coverage, OMERS defined pension plan and free Employee Health Club Membership at the Tillsonburg Community Centre.\\n\\nDepartment: Corporate Services\\n\\nDivision: Information Technology Services\\n\\nReports To: Director of Corporate Services/Clerk\\n\\nHourly rate: $48.66 - $56.92/hour\\n\\nWeekly hours: 40\\n\\nCriminal Record Check is required for this position.\\n\\nInterested candidates please apply prior to the end of a business day on Thursday July 18, 2024\\n\\nResponsibilities\\n\\nDirects, manages and coordinates the Information Systems’ activities\\nDevelops and implements a Town-wide long-range information systems strategy which involves facilitating discussions with Town management regarding current and anticipated information services requirements, applications development and enhancement requests\\nPrioritizes the acquisition, development and/or implementation of new and enhanced information technology systems to meet user needs\\nCoordinates Town-wide acquisition of software and hardware, including reviewing department requests and making recommendations on alternative options\\nDevelops and implements a long-range funding plan for maintenance and replacement of hardware\\nRecommends Town-wide standards for hardware, software and local area networks\\nOversees the operation and maintenance of telephone and other communication systems\\nManages customer support for business applications, personal computers, networks and telecommunication equipment\\nDevelops, plans and implements goals, objectives and work plans\\nEnsures compliance with legislative and regulatory requirements and professional standards\\nEvaluates services and directs the development and implementation of new/improved programs and procedures\\nRecommends and communicates appropriate application of policy and operational procedures\\nPrepares and presents written and oral reports and recommendations for consideration of the Director of Corporate Services/Clerk\\nServes as a technical advisor\\nParticipates in Management team meetings during the review and development of IT technological approaches in order to ensure achievement of Town goals and objectives\\nMonitors and reviews IT operations in order to ensure customer satisfaction and efficient, effective Town operations and, as required, develops and implements staff development programs\\nIn conjunction with the Director of Corporate Services/Clerk, develops and oversees implementation of systems that encourage productive and exceptional performance throughout the organization\\nPrepares the annual Capital and Operating Budgets for IT in cooperation with the Clerk\\nManages and assures compliances of all software licensing agreements\\nMonitors the network on a daily basis and corrects all network problems, referring unusual problems to outside consultants or vendors\\nIf requested by the Director of Corporate Services/Clerk, attends meetings of Town Council to answer specific questions about the Town’s IT systems\\nIf requested by the Director of Corporate Services/Clerk, assists with special projects and assists neighbouring municipalities with IT problems\\nFollow safe work practices related to job responsibilities and have basic understanding of the Occupational Health &amp; Safety Act as it relates to the work environment\\nAdhere to all Town policies and procedures\\nPerform other duties as assigned by Supervisor\\n\\nQualifications\\n\\nPost-secondary degree or diploma in Computer Science, Information Technology or related field\\nFive (5) years of relevant progressive experience\\nTwo (2) years of leadership and supervisory experience\\nStrong knowledge of operating systems, networks, virtualized server environments and storage.\\nHands-on experience in the administration of enterprise IT networks &amp; infrastructure\\nProficiency in the hands-on use of cybersecurity tools and technologies\\nExcellent interpersonal, communication and presentation skills\\nAbility to be self-directed and work independently\\nStrong organizational skills\\nAbility to prioritize competing tasks and meet multiple deadlines\\nExperience managing IT projects using project management methodologies an asset\\n\\nAbout The Recruitment Process\\n\\nAll new Town of Tillsonburg employees are required to complete a police record check.\\n\\nThe Town will accommodate any individual needs you have throughout the recruitment process in accordance with the\\n\\nThe Town of Tillsonburg is an equal opportunity employer and all information collected will be used in accordance with the Municipal Freedom of Information and Protection of Privacy Act for the purpose of job selection.\\n\\nWe thank all those who apply for positions, but only applicants invited for an interview will be contacted.\\n\\nPowered by JazzHR\\n\\ny5iPZIIvy5</td>\n",
              "    </tr>\n",
              "    <tr>\n",
              "      <th>4</th>\n",
              "      <td>Systems Manager</td>\n",
              "      <td>Accor</td>\n",
              "      <td>Winnipeg, Manitoba, Canada</td>\n",
              "      <td>June</td>\n",
              "      <td>2024</td>\n",
              "      <td>Company Description\\n\\n\"Why work for Accor?\"\\n\\nWe are far more than a worldwide leader. We welcome you as you are and you can find a job and brand that matches your personality. We support you to grow and learn every day, making sure that work brings purpose to your life, so that during your journey with us, you can continue to explore Accor’s limitless possibilities.\\n\\nBy joining Accor, every chapter of your story is yours to write and together we can imagine tomorrow's hospitality. Discover the life that awaits you at Accor, visit https://careers.accor.com/\\n\\nDo what you love, care for the world, dare to challenge the status quo! #BELIMITLESS\\n\\nJob Description\\n\\nReporting to the Area IT Manager and the Director of Finance, the Systems manager is an integral part of the leadership team. Focused on all areas of technology services with a key focus on hardware, operating systems and security.\\n\\nWhat You Will Be Doing\\n\\nConsistently offer professional, friendly and engaging service to all internal and external guests\\nLead and manage the hotel’s day-to-day IT activity ensuring all standards are followed\\nA confident &amp; dynamic speaker, able to communicate and interact effectively with all levels of an organization\\nExcellent communication, analytical and problem-solving skills\\nComply with the company’s IT Security Policy as it pertains to hardware, software, security/data safety\\nAssist with preparation of the annual IT budget for the hotel/s and working with the hotel team, administer that budget in a fiscally responsible manner\\nSupport the hotel’s standalone systems, including but not limited to, systems connected to the Network, point of sales systems, all related interfaces, file server, UPS related devices\\nExecute all IT projects\\nWork and consult with hardware and software vendors to setup and maintain all required equipment\\nEnsure that the usage and installation of software is in accordance with the software licensing laws\\nLiaison for the hotel team and Help desk. Work to solve root issues resulting in help desk tickets\\nWork with department tech champions to ensure smooth working of software and hardware. Recommend improvements on established incident management processes.\\nResponsible for maintaining Corporate IT standards\\nBalance operational, administrative and Colleague needs\\nFollow departmental policies and procedures\\nFollow all safety policies\\nProvides training/guidance to hotel team on hardware and software applications.\\nRecommends improvements on established incident management processes.\\nEnsure monitoring of ALL recovery systems (system backup and virus protection)\\nImplement and support ACCOR best practices.\\nLook for opportunities for new technology that may be beneficial to driving efficiency or supporting internal/external customer satisfaction.\\nParticipate after-hours on call support(24/7) with the regional IT team.\\nParticipate in management of projects as directed by RSM\\nOther duties as assigned\\n\\nQualifications\\n\\nUniversity degree or equivalent experience\\nA+ Certification\\nMicrosoft Certified System Engineer\\nCisco certification or equivalent experience\\nUnderstanding of hotel operations, an asset.\\nGood verbal &amp; written communication skills\\nStrong interpersonal skills\\nSelf-starter with a strong sense of commitment.\\nAbility to work as part of a team\\nPrevious supervisory and training experience an asset\\nAbility to focus attention on guest needs, always remaining calm and courteous\\n\\nAdditional Information\\n\\nLocated in the heart of vibrant downtown Winnipeg, Manitoba -- at the historic corner of Portage and Main -- Fairmont Winnipeg luxury hotel extends the naturally warm reception of the Prairies. Just step outside our Winnipeg hotel and the city is at your feet.\\n\\nOur Commitment To Diversity &amp; Inclusion\\n\\nWe are an inclusive company and our ambition is to attract, recruit and promote diverse talent.\\n\\nVisa Requirements: To be eligible for employment with Fairmont Winnipeg, you must be in possession of a working visa for Canada. We do not provide offer letters to applicants seeking to get their work visas. Applicants must have their work visas in place prior to applying.</td>\n",
              "    </tr>\n",
              "  </tbody>\n",
              "</table>\n",
              "</div>\n",
              "    <div class=\"colab-df-buttons\">\n",
              "\n",
              "  <div class=\"colab-df-container\">\n",
              "    <button class=\"colab-df-convert\" onclick=\"convertToInteractive('df-4596f328-098e-4263-8a0b-f22edca2cce9')\"\n",
              "            title=\"Convert this dataframe to an interactive table.\"\n",
              "            style=\"display:none;\">\n",
              "\n",
              "  <svg xmlns=\"http://www.w3.org/2000/svg\" height=\"24px\" viewBox=\"0 -960 960 960\">\n",
              "    <path d=\"M120-120v-720h720v720H120Zm60-500h600v-160H180v160Zm220 220h160v-160H400v160Zm0 220h160v-160H400v160ZM180-400h160v-160H180v160Zm440 0h160v-160H620v160ZM180-180h160v-160H180v160Zm440 0h160v-160H620v160Z\"/>\n",
              "  </svg>\n",
              "    </button>\n",
              "\n",
              "  <style>\n",
              "    .colab-df-container {\n",
              "      display:flex;\n",
              "      gap: 12px;\n",
              "    }\n",
              "\n",
              "    .colab-df-convert {\n",
              "      background-color: #E8F0FE;\n",
              "      border: none;\n",
              "      border-radius: 50%;\n",
              "      cursor: pointer;\n",
              "      display: none;\n",
              "      fill: #1967D2;\n",
              "      height: 32px;\n",
              "      padding: 0 0 0 0;\n",
              "      width: 32px;\n",
              "    }\n",
              "\n",
              "    .colab-df-convert:hover {\n",
              "      background-color: #E2EBFA;\n",
              "      box-shadow: 0px 1px 2px rgba(60, 64, 67, 0.3), 0px 1px 3px 1px rgba(60, 64, 67, 0.15);\n",
              "      fill: #174EA6;\n",
              "    }\n",
              "\n",
              "    .colab-df-buttons div {\n",
              "      margin-bottom: 4px;\n",
              "    }\n",
              "\n",
              "    [theme=dark] .colab-df-convert {\n",
              "      background-color: #3B4455;\n",
              "      fill: #D2E3FC;\n",
              "    }\n",
              "\n",
              "    [theme=dark] .colab-df-convert:hover {\n",
              "      background-color: #434B5C;\n",
              "      box-shadow: 0px 1px 3px 1px rgba(0, 0, 0, 0.15);\n",
              "      filter: drop-shadow(0px 1px 2px rgba(0, 0, 0, 0.3));\n",
              "      fill: #FFFFFF;\n",
              "    }\n",
              "  </style>\n",
              "\n",
              "    <script>\n",
              "      const buttonEl =\n",
              "        document.querySelector('#df-4596f328-098e-4263-8a0b-f22edca2cce9 button.colab-df-convert');\n",
              "      buttonEl.style.display =\n",
              "        google.colab.kernel.accessAllowed ? 'block' : 'none';\n",
              "\n",
              "      async function convertToInteractive(key) {\n",
              "        const element = document.querySelector('#df-4596f328-098e-4263-8a0b-f22edca2cce9');\n",
              "        const dataTable =\n",
              "          await google.colab.kernel.invokeFunction('convertToInteractive',\n",
              "                                                    [key], {});\n",
              "        if (!dataTable) return;\n",
              "\n",
              "        const docLinkHtml = 'Like what you see? Visit the ' +\n",
              "          '<a target=\"_blank\" href=https://colab.research.google.com/notebooks/data_table.ipynb>data table notebook</a>'\n",
              "          + ' to learn more about interactive tables.';\n",
              "        element.innerHTML = '';\n",
              "        dataTable['output_type'] = 'display_data';\n",
              "        await google.colab.output.renderOutput(dataTable, element);\n",
              "        const docLink = document.createElement('div');\n",
              "        docLink.innerHTML = docLinkHtml;\n",
              "        element.appendChild(docLink);\n",
              "      }\n",
              "    </script>\n",
              "  </div>\n",
              "\n",
              "\n",
              "<div id=\"df-382270ee-1eb9-4c65-88b3-4df09dac4651\">\n",
              "  <button class=\"colab-df-quickchart\" onclick=\"quickchart('df-382270ee-1eb9-4c65-88b3-4df09dac4651')\"\n",
              "            title=\"Suggest charts\"\n",
              "            style=\"display:none;\">\n",
              "\n",
              "<svg xmlns=\"http://www.w3.org/2000/svg\" height=\"24px\"viewBox=\"0 0 24 24\"\n",
              "     width=\"24px\">\n",
              "    <g>\n",
              "        <path d=\"M19 3H5c-1.1 0-2 .9-2 2v14c0 1.1.9 2 2 2h14c1.1 0 2-.9 2-2V5c0-1.1-.9-2-2-2zM9 17H7v-7h2v7zm4 0h-2V7h2v10zm4 0h-2v-4h2v4z\"/>\n",
              "    </g>\n",
              "</svg>\n",
              "  </button>\n",
              "\n",
              "<style>\n",
              "  .colab-df-quickchart {\n",
              "      --bg-color: #E8F0FE;\n",
              "      --fill-color: #1967D2;\n",
              "      --hover-bg-color: #E2EBFA;\n",
              "      --hover-fill-color: #174EA6;\n",
              "      --disabled-fill-color: #AAA;\n",
              "      --disabled-bg-color: #DDD;\n",
              "  }\n",
              "\n",
              "  [theme=dark] .colab-df-quickchart {\n",
              "      --bg-color: #3B4455;\n",
              "      --fill-color: #D2E3FC;\n",
              "      --hover-bg-color: #434B5C;\n",
              "      --hover-fill-color: #FFFFFF;\n",
              "      --disabled-bg-color: #3B4455;\n",
              "      --disabled-fill-color: #666;\n",
              "  }\n",
              "\n",
              "  .colab-df-quickchart {\n",
              "    background-color: var(--bg-color);\n",
              "    border: none;\n",
              "    border-radius: 50%;\n",
              "    cursor: pointer;\n",
              "    display: none;\n",
              "    fill: var(--fill-color);\n",
              "    height: 32px;\n",
              "    padding: 0;\n",
              "    width: 32px;\n",
              "  }\n",
              "\n",
              "  .colab-df-quickchart:hover {\n",
              "    background-color: var(--hover-bg-color);\n",
              "    box-shadow: 0 1px 2px rgba(60, 64, 67, 0.3), 0 1px 3px 1px rgba(60, 64, 67, 0.15);\n",
              "    fill: var(--button-hover-fill-color);\n",
              "  }\n",
              "\n",
              "  .colab-df-quickchart-complete:disabled,\n",
              "  .colab-df-quickchart-complete:disabled:hover {\n",
              "    background-color: var(--disabled-bg-color);\n",
              "    fill: var(--disabled-fill-color);\n",
              "    box-shadow: none;\n",
              "  }\n",
              "\n",
              "  .colab-df-spinner {\n",
              "    border: 2px solid var(--fill-color);\n",
              "    border-color: transparent;\n",
              "    border-bottom-color: var(--fill-color);\n",
              "    animation:\n",
              "      spin 1s steps(1) infinite;\n",
              "  }\n",
              "\n",
              "  @keyframes spin {\n",
              "    0% {\n",
              "      border-color: transparent;\n",
              "      border-bottom-color: var(--fill-color);\n",
              "      border-left-color: var(--fill-color);\n",
              "    }\n",
              "    20% {\n",
              "      border-color: transparent;\n",
              "      border-left-color: var(--fill-color);\n",
              "      border-top-color: var(--fill-color);\n",
              "    }\n",
              "    30% {\n",
              "      border-color: transparent;\n",
              "      border-left-color: var(--fill-color);\n",
              "      border-top-color: var(--fill-color);\n",
              "      border-right-color: var(--fill-color);\n",
              "    }\n",
              "    40% {\n",
              "      border-color: transparent;\n",
              "      border-right-color: var(--fill-color);\n",
              "      border-top-color: var(--fill-color);\n",
              "    }\n",
              "    60% {\n",
              "      border-color: transparent;\n",
              "      border-right-color: var(--fill-color);\n",
              "    }\n",
              "    80% {\n",
              "      border-color: transparent;\n",
              "      border-right-color: var(--fill-color);\n",
              "      border-bottom-color: var(--fill-color);\n",
              "    }\n",
              "    90% {\n",
              "      border-color: transparent;\n",
              "      border-bottom-color: var(--fill-color);\n",
              "    }\n",
              "  }\n",
              "</style>\n",
              "\n",
              "  <script>\n",
              "    async function quickchart(key) {\n",
              "      const quickchartButtonEl =\n",
              "        document.querySelector('#' + key + ' button');\n",
              "      quickchartButtonEl.disabled = true;  // To prevent multiple clicks.\n",
              "      quickchartButtonEl.classList.add('colab-df-spinner');\n",
              "      try {\n",
              "        const charts = await google.colab.kernel.invokeFunction(\n",
              "            'suggestCharts', [key], {});\n",
              "      } catch (error) {\n",
              "        console.error('Error during call to suggestCharts:', error);\n",
              "      }\n",
              "      quickchartButtonEl.classList.remove('colab-df-spinner');\n",
              "      quickchartButtonEl.classList.add('colab-df-quickchart-complete');\n",
              "    }\n",
              "    (() => {\n",
              "      let quickchartButtonEl =\n",
              "        document.querySelector('#df-382270ee-1eb9-4c65-88b3-4df09dac4651 button');\n",
              "      quickchartButtonEl.style.display =\n",
              "        google.colab.kernel.accessAllowed ? 'block' : 'none';\n",
              "    })();\n",
              "  </script>\n",
              "</div>\n",
              "\n",
              "    </div>\n",
              "  </div>\n"
            ],
            "application/vnd.google.colaboratory.intrinsic+json": {
              "type": "dataframe",
              "variable_name": "df",
              "summary": "{\n  \"name\": \"df\",\n  \"rows\": 1079,\n  \"fields\": [\n    {\n      \"column\": \"Position\",\n      \"properties\": {\n        \"dtype\": \"string\",\n        \"num_unique_values\": 1079,\n        \"samples\": [\n          \"Data Scientist, ESG Analytics - CID&A\",\n          \"DevOps Engineer/CloudEngineer (Remote)\",\n          \"Software Engineer, Machine Learning\"\n        ],\n        \"semantic_type\": \"\",\n        \"description\": \"\"\n      }\n    },\n    {\n      \"column\": \"Company_Name\",\n      \"properties\": {\n        \"dtype\": \"string\",\n        \"num_unique_values\": 708,\n        \"samples\": [\n          \"enableIT\",\n          \"First Media US\",\n          \"Dialpad\"\n        ],\n        \"semantic_type\": \"\",\n        \"description\": \"\"\n      }\n    },\n    {\n      \"column\": \"Location\",\n      \"properties\": {\n        \"dtype\": \"category\",\n        \"num_unique_values\": 177,\n        \"samples\": [\n          \"Langley, British Columbia, Canada\",\n          \"Yellowstone, Alberta, Canada\",\n          \"Deerfield, IL\"\n        ],\n        \"semantic_type\": \"\",\n        \"description\": \"\"\n      }\n    },\n    {\n      \"column\": \"Post_Month\",\n      \"properties\": {\n        \"dtype\": \"category\",\n        \"num_unique_values\": 11,\n        \"samples\": [\n          \"February\",\n          \"June\",\n          \"October\"\n        ],\n        \"semantic_type\": \"\",\n        \"description\": \"\"\n      }\n    },\n    {\n      \"column\": \"Post_Year\",\n      \"properties\": {\n        \"dtype\": \"number\",\n        \"std\": 30,\n        \"min\": 1025,\n        \"max\": 2025,\n        \"num_unique_values\": 4,\n        \"samples\": [\n          2025,\n          1025,\n          2024\n        ],\n        \"semantic_type\": \"\",\n        \"description\": \"\"\n      }\n    },\n    {\n      \"column\": \"Details\",\n      \"properties\": {\n        \"dtype\": \"string\",\n        \"num_unique_values\": 1076,\n        \"samples\": [\n          \"Cresta is on a mission to turn every customer conversation into a competitive advantage by unlocking the true potential of the contact center. Our platform combines the best of AI and human intelligence to help contact centers discover customer insights and behavioral best practices, automate conversations and inefficient processes, and empower every team member to work smarter and faster. Born from the prestigious Stanford AI lab, Cresta's co-founder and chairman is Sebastian Thrun, the genius behind Google X, Waymo, Udacity, and more. Our leadership also includes CEO, Ping Wu, the co-founder of Google Contact Center AI and Vertex AI platform, and CTO & co-founder, Tim Shi, an early member of Open AI.\\n\\nJoin us on this thrilling journey to revolutionize the workforce with AI. The future of work is here, and it's at Cresta.\\n\\nAbout The Role\\n\\nWe seek driven designers to shape the future of AI Agent products at Cresta. Whether it's automating entire contact center conversations, performing tasks on behalf of agents, or coaching human agents to enhance their performance, you will play a crucial role. Your responsibilities will include designing the end-user experiences and the tools and workflows that enable these experiences.\\n\\nAs a designer at Cresta, you are at the forefront of a technological breakthrough with LLM and Generative AI. This unique position allows you to transform how people interact with AI meaningfully. You will own the end-to-end process, including product design, user research, and visual design elements, to create world-class experiences.\\n\\nResponsibilities\\n\\nYou\\u2019ll generate novel UX ideas for AI Agents, considering the needs of various user personas.\\nYou\\u2019ll think through user and business problems, propose reasonable solutions, create detailed mockups, prototype to explore further and work with engineers to build them.\\nYou're actively involved in defining product strategy and feature requirements.\\nYou'll constantly talk to our customers from contact centers - gathering insights into user pain points before and during the development process, and validating features to improve usability.\\nYou\\u2019ll collaborate closely with Engineers, PMs, ML experts, Customer Success, and Sales.\\nYou\\u2019ll be the design advocate and push for the highest quality of the polish.\\nYou\\u2019ll constantly identify areas of opportunities and future work for the products.\\nYou\\u2019ll have good judgment of when to ship: perfect is the enemy of good.\\n\\nQualifications We Value\\n\\nBachelor's degree or equivalent in UX Design, HCI, or a related field.\\nExperience with designing AI Agents, Virtual Agents, or Conversational AI.\\nExperience with enterprise SaaS customers, contact centers, and data visualization.\\nStrong portfolio showcasing elegant design solutions for complex SaaS applications.\\nProficiency in design tools such as Figma, with the ability to create interactive prototypes. Front-end development experience is a bonus.\\nStrong at product thinking + a blend of UX disciplines (interaction design, prototyping, visual design, and user research).\\nHave a deep curiosity about the underlying tech of our products.\\n\\nPerks & Benefits:\\n\\nWe offer Cresta employees a variety of medical, dental, and vision plans, designed to fit you and your family\\u2019s needs\\nPaid parental leave to support you and your family\\nMonthly Health & Wellness allowance\\nWork from home office stipend to help you succeed in a remote environment\\nLunch reimbursement for in-office employees\\nPTO: 3 weeks in Canada\\n\\nCompensation for this position includes a base salary, equity, and a variety of benefits. Actual base salaries will be based on candidate-specific factors, including experience, skillset, and location, and local minimum pay requirements as applicable. We are actively hiring for this role in the US and Canada. Your recruiter can provide further details.\\n\\nWe have noticed a rise in recruiting impersonations across the industry, where scammers attempt to access candidates' personal and financial information through fake interviews and offers. All Cresta recruiting email communications will always come from the @cresta.ai domain. Any outreach claiming to be from Cresta via other sources should be ignored. If you are uncertain whether you have been contacted by an official Cresta employee, reach out to recruiting@cresta.ai\",\n          \"As an Intermediate DevOps contributor at Martello, you will participate in the Cloud Modernization, CI/CD operationalization of Kubernetes hosted applications with consideration of industry standards and best practices and cost effectiveness and emerging technologies while working closely with multiple cross-functional teams (R&D, Product Owners, Customer Support, etc.).\\n\\nYour responsibilities will include:\\nStrong analytical skills to interpret and translate product requirements and acceptance criteria into a technical specification and then translate the resulting design into code.\\nAutomating deployments, infrastructure provisioning and management, system administration, configuration management in a cloud environment\\nMonitoring of performance and stability and incident response and disaster recovery.\\nAssessing requirements to ensure software deliverables remain secure, reliable, scalable and cost-effective\\n\\nDuring the selection process, you will be required to demonstrate or provide evidence of experience:\\nKubernetes hosted applications and infrastructures within Azure\\nImplement deployment and orchestration of artifacts within a CI/CD framework\\nExperience at producing deployment templates/recipes that automate infrastructure provisioning and deployment. g. YAML based pipelines , terraform, etc.\\n\\nDesired Skills and Experience\\nBachelor's degree in Computer Science or other technical discipline, or equivalent experience\\nMinimum 2+ years Kubernetes\\nMinimum 2+ years scripting experience in Linux CLI and Linux security\\nMinimum 2 years of experience with Terraform/Jenkins/Git or equivalent build orchestration tools\\nMinimum 2 years of experience with Azure or other virtualization infrastructure with accompanying certifications\\n2+ years of building Cloud (SaaS) products and infrastructures\\nExperience with Observability, APM, SLAs, operational visualization (Prometheus, Grafana)\\nProven experience with Linux and Windows system administration, networking administration, configuration and troubleshooting, ideally in a cloud environment\\nAgile project management tools: SCRUM / Kanban / Atlassian Confluence & Jira\\nCloud Native software architecture\\nNGINX, Web Application Firewall, OWASP, Zero trust\\nCI/CD Automation / Azure DevOps / Jenkins / Ansible / Terraform / Kubernetes / Docker / Terraform\\nPublic clouds: Azure (Primary) / Amazon (Secondary)\\nMicrosoft SQL / Postgre SQL / PowerBI / ElasticSearch / Kibana\\n\\n\\nWhat We Offer\\nA challenging position in a rapidly evolving industry.\\nA competitive base salary + commission with excellent growth and development opportunities.\\nHybrid work environment (in office a minimum of 2-3 days per week).\\nEmployer provided health insurance that starts the first day of employment.\\nMartello stock option grants.\\nGenerous paid vacation + 10 paid personal days + 2 paid days for volunteering.\\nProfessional development opportunities\\n\\nAbout Martello Technologies\\nMartello Technologies is headquartered in Ottawa, Canada with staff in Canada, Europe, and the United States. We provide Microsoft digital experience monitoring (DEM) solutions that monitor the performance of cloud collaboration and productivity tools to give enterprises insight into the user experience. Our products include unified communications (UC) performance analytics software, Microsoft 365 user experience monitoring software, and IT analytics software.\\n\\nMartello offers a positive, diverse, and supportive culture. We welcome individuals who are curious, inventive, and want to work with people who are smart, humble, hardworking, and, above all, collaborative. Martello Technologies is committed to supporting a culture of inclusion, diversity, and accessibility to employment for all. We are proud to operate as an equal opportunity employer.\\n\\nDid we spark your interest? Get in touch, we\\u2019re keen to tell you more!\",\n          \"Reddit is a community of communities. It\\u2019s built on shared interests, passion, and trust and is home to the most open and authentic conversations on the internet. Every day, Reddit users submit, vote, and comment on the topics they care most about. With 100,000+ active communities and approximately 101M+ daily active unique visitors, Reddit is one of the internet\\u2019s largest sources of information. For more information, visit redditinc.com.\\n\\nLocation:\\n\\nThis role is completely remote-friendly. If you happen to live close to one of our physical office locations, our doors are open for you to come into the office as often as you'd like.\\n\\nTeam Description\\n\\nThe Search & Recommendation Relevance team focuses on delivering the most relevant results and recommendations when users search for anything on Reddit. Our systems and algorithms operate on the world's largest corpus of human conversation, showcasing the best answers and opinions from all across Reddit on any topics, empowering discovery.\\n\\nWe are looking for Machine Learning Engineers across multiple levels to shape the future of Search products at Reddit.\\n\\nRole Description\\n\\nIn this role, you will contribute to advancing our current search systems as well as building and iterating on Reddit Answers, our next generation AI-driven search product. As a Machine Learning Engineer, you will:\\n\\nDevelop and enhance Search Retrievals and Ranking models - from optimizing lexical search (e.g. SOLR tuning) to designing and iterating on semantic models and ranking systems.\\nDesign and build pipelines and algorithms that make it effortless for users to find high-quality answers - whether it's recommendations for the best hiking trail, travel advice, or reviews of the next product or restaurant.\\nCollaborate with product managers, data scientists, ML modelers and platform engineers to build a state of the search recommender system.\\nDevelop and test new components in our pipelines, deploying ML models, integrating LLMs, and ensuring effective monitoring and product integration.\\nLeverage your technical expertise to ensure our pipelines maintain high uptime and low latency, while collaborating with other technical leaders to develop a long-term roadmap that aligns with the needs of a constantly evolving search product ecosystem.\\nThis is a high-impact role where you will be involved in technical & product strategy, operations, architecture, and execution for one of the largest sites in the world.\\n\\n\\nRequired Qualifications\\n\\n3-10+ years of industry experience as a machine learning engineer or software engineer developing backend / infrastructure at scale.\\nExperience in working and building machine learning models using PyTorch or Tensorflow.\\nExperience working with search & recommender systems and pipelines.\\nExperience building production-quality code incorporating testing, evaluation, and monitoring using object-oriented programming, including experience in Python, Golang.\\nExperienced with GraphQL, REST, HTTP, Thrift or gRPC basics, and the ability to design and implement maintainable APIs. Deep systems level understanding of industry scale recommendation systems.\\nExperience of developing applications using large scale data stack - e.g. Kubeflow, Airflow, BigQuery, GraphQL, Kafka, Redis etc.\\n\\n\\nBenefits\\n\\nComprehensive Healthcare Benefits\\n401k Matching\\nWorkspace benefits for your home office\\nPersonal & Professional development funds\\nFamily Planning Support\\nFlexible Vacation (please use them!) & Reddit Global Wellness Days\\n4+ months paid Parental Leave\\nPaid Volunteer time off\\n\\n\\nPay Transparency\\n\\nThis job posting may span more than one career level.\\n\\nIn addition to base salary, this job is eligible to receive equity in the form of restricted stock units, and depending on the position offered, it may also be eligible to receive a commission. Additionally, Reddit offers a wide range of benefits to U.S.-based employees, including medical, dental, and vision insurance, 401(k) program with employer match, generous time off for vacation, and parental leave. To learn more, please visit https://www.redditinc.com/careers/.\\n\\nTo provide greater transparency to candidates, we share base pay ranges for all US-based job postings regardless of state. We set standard base pay ranges for all roles based on function, level, and country location, benchmarked against similar stage growth companies. Final offer amounts are determined by multiple factors including, skills, depth of work experience and relevant licenses/credentials, and may vary from the amounts listed below.\\n\\nThe Base Pay Range For This Position Is\\n\\n$185,800\\u2014$322,000 USD\\n\\nReddit is proud to be an equal opportunity employer, and is committed to building a workforce representative of the diverse communities we serve. Reddit is committed to providing reasonable accommodations for qualified individuals with disabilities and disabled veterans in our job application procedures. If you need assistance or an accommodation due to a disability, please contact us at ApplicationAssistance@Reddit.com.\"\n        ],\n        \"semantic_type\": \"\",\n        \"description\": \"\"\n      }\n    }\n  ]\n}"
            }
          },
          "metadata": {},
          "execution_count": 42
        }
      ]
    },
    {
      "cell_type": "code",
      "source": [
        "df = df.head(500)"
      ],
      "metadata": {
        "id": "rWWh5Cv6bOKD"
      },
      "execution_count": null,
      "outputs": []
    },
    {
      "cell_type": "markdown",
      "source": [
        "## Generative AI processing"
      ],
      "metadata": {
        "id": "anNEMayLdF1O"
      }
    },
    {
      "cell_type": "code",
      "source": [
        "# We will generate a new column that contains the following JSON object for each job Description in the following dataset\n",
        "\n",
        "\"\"\"\n",
        "{\n",
        "  \"role_summary\": \"A concise, non-technical summary of the job role. It should describe the primary responsibilities of the role in simple language, avoiding jargon. Focus on what the role does rather than listing requirements.\",\n",
        "  \"key_terms\": [\n",
        "    {\n",
        "      \"term\": \"Technical Term or jargon from the job description\",\n",
        "      \"explanation\": \"A simple explanation of the term in the context of the role. This helps recruiters understand technical jargon without needing domain expertise.\"\n",
        "    }\n",
        "  ],\n",
        "  \"skill_priorities\": {\n",
        "    \"must_have\": [\"List of essential skills required for the role. These are non-negotiable and should be explicitly mentioned in the job description.\"],\n",
        "    \"nice_to_have\": [\"List of preferred skills that are beneficial but not mandatory. These are often marked as 'preferred,' 'a plus,' or 'optional' in the job description.\"]\n",
        "  },\n",
        "  \"proposed_screening_questions_with_answers\": [\n",
        "    {\n",
        "      \"question\": \"A role-specific question to assess candidate expertise. The question should focus on technical skills, problem-solving, or past experiences relevant to the role.\",\n",
        "      \"example_answer\": \"An example of a strong candidate response to the question. The answer should demonstrate technical depth, problem-solving, and relevance to the role.\"\n",
        "    }\n",
        "  ],\n",
        "  \"red_flags\": [\n",
        "    \"Indicators of potential mismatches for the role, offering actionable insights for recruiters based on the job offer. Examples include 'Avoid candidates without cloud experience'.\"\n",
        "  ],\n",
        "  \"confidence_score\": \"A numerical score between 0 and 100 indicating the model's confidence in the accuracy of its analysis.\"\n",
        "}\n",
        "\"\"\""
      ],
      "metadata": {
        "colab": {
          "base_uri": "https://localhost:8080/",
          "height": 122
        },
        "id": "IFwtGYiHeYRT",
        "outputId": "74c3ac0e-085b-4ba7-8109-a6d3611bc69d"
      },
      "execution_count": null,
      "outputs": [
        {
          "output_type": "execute_result",
          "data": {
            "text/plain": [
              "'\\n{\\n  \"role_summary\": \"A concise, non-technical summary of the job role. It should describe the primary responsibilities of the role in simple language, avoiding jargon. Focus on what the role does rather than listing requirements.\",\\n  \"key_terms\": [\\n    {\\n      \"term\": \"Technical Term or jargon from the job description\",\\n      \"explanation\": \"A simple explanation of the term in the context of the role. This helps recruiters understand technical jargon without needing domain expertise.\"\\n    }\\n  ],\\n  \"skill_priorities\": {\\n    \"must_have\": [\"List of essential skills required for the role. These are non-negotiable and should be explicitly mentioned in the job description.\"],\\n    \"nice_to_have\": [\"List of preferred skills that are beneficial but not mandatory. These are often marked as \\'preferred,\\' \\'a plus,\\' or \\'optional\\' in the job description.\"]\\n  },\\n  \"proposed_screening_questions_with_answers\": [\\n    {\\n      \"question\": \"A role-specific question to assess candidate expertise. The question should focus on technical skills, problem-solving, or past experiences relevant to the role.\",\\n      \"example_answer\": \"An example of a strong candidate response to the question. The answer should demonstrate technical depth, problem-solving, and relevance to the role.\"\\n    }\\n  ],\\n  \"red_flags\": [\\n    \"Indicators of potential mismatches for the role, offering actionable insights for recruiters based on the job offer. Examples include \\'Avoid candidates without cloud experience\\'.\"\\n  ],\\n  \"confidence_score\": \"A numerical score between 0 and 100 indicating the model\\'s confidence in the accuracy of its analysis.\"\\n}\\n'"
            ],
            "application/vnd.google.colaboratory.intrinsic+json": {
              "type": "string"
            }
          },
          "metadata": {},
          "execution_count": 44
        }
      ]
    },
    {
      "cell_type": "code",
      "source": [
        "system_message_prompt = \"\"\"\n",
        "You are an AI assistant that converts job descriptions into structured JSON data to assist recruiters. Your task is to extract key details from a given job description and format them into a JSON object with the following structure:\n",
        "\n",
        "{\n",
        "  \"role_summary\": \"A concise, non-technical summary of the job role. It should describe the primary responsibilities of the role in simple language, avoiding jargon. Focus on what the role does rather than listing requirements.\",\n",
        "  \"key_terms\": [\n",
        "    {\n",
        "      \"term\": \"Technical Term or jargon from the job description\",\n",
        "      \"explanation\": \"A simple explanation of the term in the context of the role. This helps recruiters understand technical jargon without needing domain expertise.\"\n",
        "    }\n",
        "  ],\n",
        "  \"skill_priorities\": {\n",
        "    \"must_have\": [\"List of essential skills required for the role. These are non-negotiable and should be explicitly mentioned in the job description.\"],\n",
        "    \"nice_to_have\": [\"List of preferred skills that are beneficial but not mandatory. These are often marked as 'preferred,' 'a plus,' or 'optional' in the job description.\"]\n",
        "  },\n",
        "  \"proposed_screening_questions_with_answers\": [\n",
        "    {\n",
        "      \"question\": \"A role-specific question to assess candidate expertise. The question should focus on technical skills, problem-solving, or past experiences relevant to the role.\",\n",
        "      \"example_answer\": \"An example of a strong candidate response to the question. The answer should demonstrate technical depth, problem-solving, and relevance to the role.\"\n",
        "    }\n",
        "  ],\n",
        "  \"red_flags\": [\n",
        "    \"Indicators of potential mismatches for the role, offering actionable insights for recruiters based on the job offer. Examples include 'Avoid candidates without cloud experience'.\"\n",
        "  ],\n",
        "  \"confidence_score\": \"A numerical score between 0 and 100 indicating the model's confidence in the accuracy of its analysis.\"\n",
        "}\n",
        "\n",
        "Guidelines:\n",
        "- Ensure the role summary is written in simple, non-technical language, focusing on primary responsibilities rather than qualifications.\n",
        "- Extract key technical terms and provide clear, non-technical explanations.\n",
        "- Identify and categorize skills into 'must-have' and 'nice-to-have' based on explicit mentions in the job description.\n",
        "- Generate screening questions that assess relevant competencies and provide an example of a strong answer.\n",
        "- Highlight red flags that indicate potential mismatches, ensuring they are actionable.\n",
        "- Assign a confidence score (0-100) reflecting the reliability of the extracted insights.\n",
        "\n",
        "Output only the JSON object without additional text.\n",
        "\n",
        "\"\"\""
      ],
      "metadata": {
        "id": "-xxT8ayYeYT4"
      },
      "execution_count": null,
      "outputs": []
    },
    {
      "cell_type": "code",
      "source": [
        "!pip install groq"
      ],
      "metadata": {
        "colab": {
          "base_uri": "https://localhost:8080/"
        },
        "id": "a1BXrJ_PCzHL",
        "outputId": "615c6454-cbcf-4cad-a5d9-e2106fc2464f"
      },
      "execution_count": null,
      "outputs": [
        {
          "output_type": "stream",
          "name": "stdout",
          "text": [
            "Collecting groq\n",
            "  Downloading groq-0.20.0-py3-none-any.whl.metadata (15 kB)\n",
            "Requirement already satisfied: anyio<5,>=3.5.0 in /usr/local/lib/python3.11/dist-packages (from groq) (4.9.0)\n",
            "Requirement already satisfied: distro<2,>=1.7.0 in /usr/local/lib/python3.11/dist-packages (from groq) (1.9.0)\n",
            "Requirement already satisfied: httpx<1,>=0.23.0 in /usr/local/lib/python3.11/dist-packages (from groq) (0.28.1)\n",
            "Requirement already satisfied: pydantic<3,>=1.9.0 in /usr/local/lib/python3.11/dist-packages (from groq) (2.10.6)\n",
            "Requirement already satisfied: sniffio in /usr/local/lib/python3.11/dist-packages (from groq) (1.3.1)\n",
            "Requirement already satisfied: typing-extensions<5,>=4.10 in /usr/local/lib/python3.11/dist-packages (from groq) (4.12.2)\n",
            "Requirement already satisfied: idna>=2.8 in /usr/local/lib/python3.11/dist-packages (from anyio<5,>=3.5.0->groq) (3.10)\n",
            "Requirement already satisfied: certifi in /usr/local/lib/python3.11/dist-packages (from httpx<1,>=0.23.0->groq) (2025.1.31)\n",
            "Requirement already satisfied: httpcore==1.* in /usr/local/lib/python3.11/dist-packages (from httpx<1,>=0.23.0->groq) (1.0.7)\n",
            "Requirement already satisfied: h11<0.15,>=0.13 in /usr/local/lib/python3.11/dist-packages (from httpcore==1.*->httpx<1,>=0.23.0->groq) (0.14.0)\n",
            "Requirement already satisfied: annotated-types>=0.6.0 in /usr/local/lib/python3.11/dist-packages (from pydantic<3,>=1.9.0->groq) (0.7.0)\n",
            "Requirement already satisfied: pydantic-core==2.27.2 in /usr/local/lib/python3.11/dist-packages (from pydantic<3,>=1.9.0->groq) (2.27.2)\n",
            "Downloading groq-0.20.0-py3-none-any.whl (124 kB)\n",
            "\u001b[2K   \u001b[90m━━━━━━━━━━━━━━━━━━━━━━━━━━━━━━━━━━━━━━━━\u001b[0m \u001b[32m124.9/124.9 kB\u001b[0m \u001b[31m6.5 MB/s\u001b[0m eta \u001b[36m0:00:00\u001b[0m\n",
            "\u001b[?25hInstalling collected packages: groq\n",
            "Successfully installed groq-0.20.0\n"
          ]
        }
      ]
    },
    {
      "cell_type": "code",
      "source": [
        "import re\n",
        "import groq\n",
        "import os\n",
        "import json\n",
        "import time\n",
        "from typing import List, Optional\n",
        "import json\n",
        "from pydantic import BaseModel\n",
        "from google.colab import userdata\n",
        "from pprint import pprint"
      ],
      "metadata": {
        "id": "XNvI8MTReYY4"
      },
      "execution_count": null,
      "outputs": []
    },
    {
      "cell_type": "code",
      "source": [
        "llama3_model= 'llama3-70b-8192'"
      ],
      "metadata": {
        "id": "weooLortIEUp"
      },
      "execution_count": null,
      "outputs": []
    },
    {
      "cell_type": "code",
      "source": [
        "key_1 = userdata.get('ahmed92_groq_key')\n",
        "key_2 = userdata.get('hamza_groq')\n",
        "key_3 = userdata.get('tunDC_groq')\n",
        "\n",
        "api_keys = [key_1, key_2, key_3]"
      ],
      "metadata": {
        "id": "jGkiPNdieYbQ"
      },
      "execution_count": null,
      "outputs": []
    },
    {
      "cell_type": "code",
      "source": [
        "from typing import List, Optional\n",
        "from pydantic import BaseModel\n",
        "\n",
        "class KeyTerm(BaseModel):\n",
        "    term: str\n",
        "    explanation: str\n",
        "\n",
        "class SkillPriorities(BaseModel):\n",
        "    must_have: List[str]\n",
        "    nice_to_have: List[str]\n",
        "\n",
        "class ScreeningQuestion(BaseModel):\n",
        "    question: str\n",
        "    example_answer: str\n",
        "\n",
        "class JobAnalysis(BaseModel):\n",
        "    role_summary: str\n",
        "    key_terms: List[KeyTerm]\n",
        "    skill_priorities: SkillPriorities\n",
        "    proposed_screening_questions_with_answers: List[ScreeningQuestion]\n",
        "    red_flags: List[str]\n",
        "    confidence_score: float"
      ],
      "metadata": {
        "id": "NtRAr5p8DWdW"
      },
      "execution_count": null,
      "outputs": []
    },
    {
      "cell_type": "code",
      "source": [
        "from pydantic import ValidationError\n",
        "from groq import Groq, APIError, APIConnectionError, RateLimitError\n",
        "from pydantic import ValidationError\n",
        "from typing import Union\n",
        "\n",
        "def analyze_job_with_retries(\n",
        "    job_description: str,\n",
        "    prompt: str,\n",
        "    model_name: str,\n",
        "    api_keys: list,\n",
        "    max_retries: int = 3,\n",
        "    initial_retry_delay: float = 1.0\n",
        ") -> Union[JobAnalysis, str]:  # Updated return type\n",
        "    \"\"\"\n",
        "    Analyzes a job description with API key rotation on exceptions.\n",
        "\n",
        "    Args:\n",
        "        job_description: The job description text to analyze.\n",
        "        prompt: System prompt for the AI model.\n",
        "        model_name: Name of the LLM model to use.\n",
        "        api_keys: List of API keys to rotate through.\n",
        "        max_retries: Maximum number of retry attempts across all keys.\n",
        "        initial_retry_delay: Initial delay between retries in seconds (exponential backoff).\n",
        "\n",
        "    Returns:\n",
        "        Union[JobAnalysis, str]: Parsed job analysis results or 'Error' if all retries fail.\n",
        "    \"\"\"\n",
        "    retry_delay = initial_retry_delay\n",
        "    total_attempts = 0\n",
        "\n",
        "    while total_attempts < max_retries:\n",
        "        for i, api_key in enumerate(api_keys):\n",
        "            client = Groq(api_key=api_key)\n",
        "            try:\n",
        "                chat_completion = client.chat.completions.create(\n",
        "                    messages=[\n",
        "                        {\n",
        "                            \"role\": \"system\",\n",
        "                            \"content\": f\"{prompt}\\n\"\n",
        "                                       f\"The JSON object must use the schema: {json.dumps(JobAnalysis.model_json_schema(), indent=2)}\",\n",
        "                        },\n",
        "                        {\n",
        "                            \"role\": \"user\",\n",
        "                            \"content\": f\"Analyze this job description:\\n\\n{job_description}\",\n",
        "                        },\n",
        "                    ],\n",
        "                    model=model_name,\n",
        "                    temperature=0,\n",
        "                    response_format={\"type\": \"json_object\"},\n",
        "                )\n",
        "                print(f\"Success from {model_name} using API key {i + 1}\")\n",
        "                job_object = JobAnalysis.model_validate_json(\n",
        "                    chat_completion.choices[0].message.content\n",
        "                )\n",
        "\n",
        "                return job_object.model_dump_json()\n",
        "\n",
        "\n",
        "            except (APIError, APIConnectionError, RateLimitError) as e:\n",
        "                print(f\"API error with key {i + 1}: {str(e)}. Rotating to next key...\")\n",
        "                total_attempts += 1\n",
        "                if total_attempts >= max_retries:\n",
        "                    break  # Exit if max retries reached\n",
        "                time.sleep(retry_delay)\n",
        "                retry_delay *= 2  # Exponential backoff\n",
        "\n",
        "            except Exception as e:\n",
        "                print(f\"Unexpected error: {str(e)}. Rotating to next key...\")\n",
        "                total_attempts += 1\n",
        "                if total_attempts >= max_retries:\n",
        "                    break  # Exit if max retries reached\n",
        "                time.sleep(retry_delay)\n",
        "                retry_delay *= 2\n",
        "\n",
        "    print(\"All API keys and retries exhausted. Returning error response.\")\n",
        "    return 'Error'  # Return string 'Error' if all retries fail"
      ],
      "metadata": {
        "id": "ZKh5gtdKLS0D"
      },
      "execution_count": null,
      "outputs": []
    },
    {
      "cell_type": "code",
      "source": [
        "# Example usage\n",
        "job_desc = \"\"\"\n",
        "Note: By applying to this position you will have an opportunity to share your preferred working location from the following: Cambridge, MA, USA; Atlanta, GA, USA; Austin, TX, USA; Seattle, WA, USA.Minimum qualifications:\n",
        "\n",
        "Master's degree in a quantitative discipline such as Statistics, Engineering, Sciences, or equivalent practical experience\n",
        "4 years of experience using analytics to solve product or business problems, coding (e.g., Python, R, SQL), querying databases or statistical analysis.\n",
        "4 years of experience in business visualization tools like Looker, Tableau, etc.\n",
        "\n",
        "Preferred qualifications:\n",
        "\n",
        "Master's degree in Computer Science, Economics, or Mathematics, or a related field.\n",
        "5 years of work experience in data science or quantitative analytics with focus on statistical modeling, Machine Learning, and AI.\n",
        "Experience with both SQL and Python.\n",
        "Experience with Machine Learning, AI or AI Pipeline.\n",
        "Experience in Google Cloud Platform.\n",
        "\n",
        "About The Job\n",
        "\n",
        "Cloud Learning Services (CLS) is revolutionizing direct cloud learning. We empower users of all levels with interactive labs and guided experiences to build practical skills on Google Cloud Platform and other leading technologies. Our mission is to make the cloud accessible, engaging, and enjoyable to learn.\n",
        "\n",
        "As a Business Data Scientist, you will play a key role in uncovering valuable insights from diverse data sources to solve critical business tests. You will address a wide range of exciting projects, from establishing new measurement frameworks to identifying meaningful patterns in large datasets, ultimately empowering stakeholders to make data-driven decisions.\n",
        "\n",
        "In this role, you will need to be a detail-oriented problem-solver with a strong foundation in data analytics, data visualization, and Artificial Intelligence/Machine Learning. You will solve the real-world problems and a commitment to continuous learning. Exceptional communication and stakeholder management skills are essential, as you will collaborate extensively with cross-functional teams. If you succeed in dynamic environments and are eager to make a real impact with data, we encourage you to apply!\n",
        "\n",
        "The US base salary range for this full-time position is $166,000-$244,000 + bonus + equity + benefits. Our salary ranges are determined by role, level, and location. Within the range, individual pay is determined by work location and additional factors, including job-related skills, experience, and relevant education or training. Your recruiter can share more about the specific salary range for your preferred location during the hiring process.\n",
        "\n",
        "Please note that the compensation details listed in US role postings reflect the base salary only, and do not include bonus, equity, or benefits. Learn more about benefits at Google .\n",
        "\n",
        "Responsibilities\n",
        "\n",
        "Extract actionable insights from large, complex datasets and build data products like dashboards to operationalize them, driving measurable improvements in Key Performance Indicators (KPIs).\n",
        "Present and communicate actionable insights and recommendations to executives, leaders, and cross-functional partners, including Product, Engineering, and Marketing teams.\n",
        "Serve as a peer-reviewer and consultant to other members of the team, fostering a collaborative and knowledge-sharing environment.\n",
        "Learn and share knowledge of the latest advancements in AI/ML and data science that are relevant to our work.\n",
        "\n",
        "\"\"\"\n",
        "\n",
        "analysis = analyze_job_with_retries(job_desc, system_message_prompt, llama3_model, api_keys)\n",
        "\n",
        "\n",
        "# Assuming `analysis` is your JobAnalysis object\n",
        "pprint(analysis)\n"
      ],
      "metadata": {
        "colab": {
          "base_uri": "https://localhost:8080/"
        },
        "id": "UszulNFJCXUJ",
        "outputId": "32b62b5d-2d7e-4846-c7d7-4d7728080d33"
      },
      "execution_count": null,
      "outputs": [
        {
          "output_type": "stream",
          "name": "stdout",
          "text": [
            "Success from llama3-70b-8192 using API key 1\n",
            "('{\"role_summary\":\"As a Business Data Scientist, you will uncover valuable '\n",
            " 'insights from diverse data sources to solve critical business tests, '\n",
            " 'empowering stakeholders to make data-driven '\n",
            " 'decisions.\",\"key_terms\":[{\"term\":\"Machine Learning\",\"explanation\":\"A type of '\n",
            " 'Artificial Intelligence that enables computers to learn from data and make '\n",
            " 'predictions or decisions without being explicitly programmed.\"},{\"term\":\"AI '\n",
            " 'Pipeline\",\"explanation\":\"A series of processes that enable the development, '\n",
            " 'deployment, and management of Artificial Intelligence '\n",
            " 'models.\"},{\"term\":\"Google Cloud Platform\",\"explanation\":\"A suite of cloud '\n",
            " 'computing services offered by Google, including data storage, analytics, and '\n",
            " 'machine learning capabilities.\"},{\"term\":\"Data '\n",
            " 'Visualization\",\"explanation\":\"The process of creating graphical '\n",
            " 'representations of data to communicate insights and trends more '\n",
            " 'effectively.\"},{\"term\":\"SQL\",\"explanation\":\"A programming language used for '\n",
            " 'managing and analyzing relational '\n",
            " 'databases.\"},{\"term\":\"Python\",\"explanation\":\"A high-level programming '\n",
            " 'language used for data analysis, machine learning, and '\n",
            " 'automation.\"}],\"skill_priorities\":{\"must_have\":[\"Master\\'s degree in a '\n",
            " 'quantitative discipline\",\"4 years of experience using analytics to solve '\n",
            " 'product or business problems\",\"4 years of experience in business '\n",
            " 'visualization tools\"],\"nice_to_have\":[\"Master\\'s degree in Computer Science, '\n",
            " 'Economics, or Mathematics\",\"5 years of work experience in data science or '\n",
            " 'quantitative analytics\",\"Experience with Machine Learning, AI or AI '\n",
            " 'Pipeline\",\"Experience in Google Cloud '\n",
            " 'Platform\"]},\"proposed_screening_questions_with_answers\":[{\"question\":\"Can '\n",
            " 'you explain how you would approach building a data product to operationalize '\n",
            " 'insights from a large, complex dataset?\",\"example_answer\":\"I would start by '\n",
            " 'identifying the key stakeholders and their requirements, then design a '\n",
            " 'dashboard that effectively communicates actionable insights. I would use '\n",
            " 'tools like Tableau or Looker to create interactive visualizations, and '\n",
            " 'ensure that the product is scalable and maintainable.\"},{\"question\":\"How do '\n",
            " 'you stay current with the latest advancements in AI/ML and data '\n",
            " 'science?\",\"example_answer\":\"I regularly read industry blogs and research '\n",
            " 'papers, attend conferences and meetups, and participate in online forums to '\n",
            " 'stay informed about the latest developments. I also experiment with new '\n",
            " 'tools and techniques to apply them to real-world '\n",
            " 'problems.\"}],\"red_flags\":[\"Lack of experience with cloud-based data '\n",
            " 'analytics platforms\",\"Inability to communicate complex technical insights to '\n",
            " 'non-technical stakeholders\"],\"confidence_score\":90.0}')\n"
          ]
        }
      ]
    },
    {
      "cell_type": "code",
      "source": [
        "from tqdm.notebook import tqdm\n",
        "import time\n",
        "\n",
        "def process_dataframe(df, system_message_prompt, llama3_model, api_keys):\n",
        "    tqdm.pandas(desc=\"Processing job descriptions\")\n",
        "\n",
        "    def safe_analyze(row):\n",
        "        job_desc = row['Details']\n",
        "        position = row['Position']\n",
        "        print(f\"Processing position: {position}\")\n",
        "\n",
        "        # Analyze the job description\n",
        "        result = analyze_job_with_retries(job_desc, system_message_prompt, llama3_model, api_keys)\n",
        "\n",
        "        # Handle the case where the result is 'Error'\n",
        "        if result == 'Error':\n",
        "            print(f\"Failed to analyze position: {position}\")\n",
        "            return None  # Or return a default value or error object\n",
        "        else:\n",
        "            return result  # Return the JobAnalysis object\n",
        "\n",
        "    # Use progress_apply to process each row\n",
        "    df['parsed_description'] = df.progress_apply(safe_analyze, axis=1)\n",
        "    return df\n",
        "\n",
        "# Process the DataFrame\n",
        "analysed_df = process_dataframe(df, system_message_prompt, llama3_model, api_keys)"
      ],
      "metadata": {
        "id": "-8VEYrsdrGAc"
      },
      "execution_count": null,
      "outputs": []
    },
    {
      "cell_type": "code",
      "source": [
        "# analysed_df.to_csv('combined_jobs_with_analysis.csv', index=False)"
      ],
      "metadata": {
        "id": "DREAcyb8CXdz"
      },
      "execution_count": null,
      "outputs": []
    },
    {
      "cell_type": "code",
      "source": [
        "# from google.colab import files\n",
        "# files.download('combined_jobs_with_analysis.csv')"
      ],
      "metadata": {
        "colab": {
          "base_uri": "https://localhost:8080/",
          "height": 17
        },
        "id": "K2PajNeto9zs",
        "outputId": "ecc6d12a-b3b8-475d-8fb0-8ea13af2f9a5"
      },
      "execution_count": null,
      "outputs": [
        {
          "output_type": "display_data",
          "data": {
            "text/plain": [
              "<IPython.core.display.Javascript object>"
            ],
            "application/javascript": [
              "\n",
              "    async function download(id, filename, size) {\n",
              "      if (!google.colab.kernel.accessAllowed) {\n",
              "        return;\n",
              "      }\n",
              "      const div = document.createElement('div');\n",
              "      const label = document.createElement('label');\n",
              "      label.textContent = `Downloading \"${filename}\": `;\n",
              "      div.appendChild(label);\n",
              "      const progress = document.createElement('progress');\n",
              "      progress.max = size;\n",
              "      div.appendChild(progress);\n",
              "      document.body.appendChild(div);\n",
              "\n",
              "      const buffers = [];\n",
              "      let downloaded = 0;\n",
              "\n",
              "      const channel = await google.colab.kernel.comms.open(id);\n",
              "      // Send a message to notify the kernel that we're ready.\n",
              "      channel.send({})\n",
              "\n",
              "      for await (const message of channel.messages) {\n",
              "        // Send a message to notify the kernel that we're ready.\n",
              "        channel.send({})\n",
              "        if (message.buffers) {\n",
              "          for (const buffer of message.buffers) {\n",
              "            buffers.push(buffer);\n",
              "            downloaded += buffer.byteLength;\n",
              "            progress.value = downloaded;\n",
              "          }\n",
              "        }\n",
              "      }\n",
              "      const blob = new Blob(buffers, {type: 'application/binary'});\n",
              "      const a = document.createElement('a');\n",
              "      a.href = window.URL.createObjectURL(blob);\n",
              "      a.download = filename;\n",
              "      div.appendChild(a);\n",
              "      a.click();\n",
              "      div.remove();\n",
              "    }\n",
              "  "
            ]
          },
          "metadata": {}
        },
        {
          "output_type": "display_data",
          "data": {
            "text/plain": [
              "<IPython.core.display.Javascript object>"
            ],
            "application/javascript": [
              "download(\"download_b3added8-462f-4861-b184-01cd946b2dae\", \"combined_jobs_with_analysis.csv\", 3286756)"
            ]
          },
          "metadata": {}
        }
      ]
    },
    {
      "cell_type": "code",
      "source": [],
      "metadata": {
        "id": "f1q5YgpdGdSq"
      },
      "execution_count": null,
      "outputs": []
    },
    {
      "cell_type": "code",
      "source": [],
      "metadata": {
        "id": "nbsr10tOGdVH"
      },
      "execution_count": null,
      "outputs": []
    },
    {
      "cell_type": "code",
      "source": [],
      "metadata": {
        "id": "WFEL1Fz0GdXa"
      },
      "execution_count": null,
      "outputs": []
    },
    {
      "cell_type": "code",
      "source": [],
      "metadata": {
        "id": "xEQq4DkoGdZ1"
      },
      "execution_count": null,
      "outputs": []
    },
    {
      "cell_type": "code",
      "source": [],
      "metadata": {
        "id": "C4Bl6MVwGdcR"
      },
      "execution_count": null,
      "outputs": []
    },
    {
      "cell_type": "code",
      "source": [
        "!pip install gradio"
      ],
      "metadata": {
        "colab": {
          "base_uri": "https://localhost:8080/"
        },
        "id": "LUsEUgx9D3IJ",
        "outputId": "7b1df025-4fc5-4d48-80f7-284d3e33b85b"
      },
      "execution_count": null,
      "outputs": [
        {
          "output_type": "stream",
          "name": "stdout",
          "text": [
            "Collecting gradio\n",
            "  Downloading gradio-5.22.0-py3-none-any.whl.metadata (16 kB)\n",
            "Collecting aiofiles<24.0,>=22.0 (from gradio)\n",
            "  Downloading aiofiles-23.2.1-py3-none-any.whl.metadata (9.7 kB)\n",
            "Requirement already satisfied: anyio<5.0,>=3.0 in /usr/local/lib/python3.11/dist-packages (from gradio) (4.9.0)\n",
            "Collecting fastapi<1.0,>=0.115.2 (from gradio)\n",
            "  Downloading fastapi-0.115.11-py3-none-any.whl.metadata (27 kB)\n",
            "Collecting ffmpy (from gradio)\n",
            "  Downloading ffmpy-0.5.0-py3-none-any.whl.metadata (3.0 kB)\n",
            "Collecting gradio-client==1.8.0 (from gradio)\n",
            "  Downloading gradio_client-1.8.0-py3-none-any.whl.metadata (7.1 kB)\n",
            "Collecting groovy~=0.1 (from gradio)\n",
            "  Downloading groovy-0.1.2-py3-none-any.whl.metadata (6.1 kB)\n",
            "Requirement already satisfied: httpx>=0.24.1 in /usr/local/lib/python3.11/dist-packages (from gradio) (0.28.1)\n",
            "Requirement already satisfied: huggingface-hub>=0.28.1 in /usr/local/lib/python3.11/dist-packages (from gradio) (0.29.3)\n",
            "Requirement already satisfied: jinja2<4.0 in /usr/local/lib/python3.11/dist-packages (from gradio) (3.1.6)\n",
            "Requirement already satisfied: markupsafe<4.0,>=2.0 in /usr/local/lib/python3.11/dist-packages (from gradio) (3.0.2)\n",
            "Requirement already satisfied: numpy<3.0,>=1.0 in /usr/local/lib/python3.11/dist-packages (from gradio) (2.0.2)\n",
            "Requirement already satisfied: orjson~=3.0 in /usr/local/lib/python3.11/dist-packages (from gradio) (3.10.15)\n",
            "Requirement already satisfied: packaging in /usr/local/lib/python3.11/dist-packages (from gradio) (24.2)\n",
            "Requirement already satisfied: pandas<3.0,>=1.0 in /usr/local/lib/python3.11/dist-packages (from gradio) (2.2.2)\n",
            "Requirement already satisfied: pillow<12.0,>=8.0 in /usr/local/lib/python3.11/dist-packages (from gradio) (11.1.0)\n",
            "Requirement already satisfied: pydantic>=2.0 in /usr/local/lib/python3.11/dist-packages (from gradio) (2.10.6)\n",
            "Collecting pydub (from gradio)\n",
            "  Downloading pydub-0.25.1-py2.py3-none-any.whl.metadata (1.4 kB)\n",
            "Collecting python-multipart>=0.0.18 (from gradio)\n",
            "  Downloading python_multipart-0.0.20-py3-none-any.whl.metadata (1.8 kB)\n",
            "Requirement already satisfied: pyyaml<7.0,>=5.0 in /usr/local/lib/python3.11/dist-packages (from gradio) (6.0.2)\n",
            "Collecting ruff>=0.9.3 (from gradio)\n",
            "  Downloading ruff-0.11.2-py3-none-manylinux_2_17_x86_64.manylinux2014_x86_64.whl.metadata (25 kB)\n",
            "Collecting safehttpx<0.2.0,>=0.1.6 (from gradio)\n",
            "  Downloading safehttpx-0.1.6-py3-none-any.whl.metadata (4.2 kB)\n",
            "Collecting semantic-version~=2.0 (from gradio)\n",
            "  Downloading semantic_version-2.10.0-py2.py3-none-any.whl.metadata (9.7 kB)\n",
            "Collecting starlette<1.0,>=0.40.0 (from gradio)\n",
            "  Downloading starlette-0.46.1-py3-none-any.whl.metadata (6.2 kB)\n",
            "Collecting tomlkit<0.14.0,>=0.12.0 (from gradio)\n",
            "  Downloading tomlkit-0.13.2-py3-none-any.whl.metadata (2.7 kB)\n",
            "Requirement already satisfied: typer<1.0,>=0.12 in /usr/local/lib/python3.11/dist-packages (from gradio) (0.15.2)\n",
            "Requirement already satisfied: typing-extensions~=4.0 in /usr/local/lib/python3.11/dist-packages (from gradio) (4.12.2)\n",
            "Collecting uvicorn>=0.14.0 (from gradio)\n",
            "  Downloading uvicorn-0.34.0-py3-none-any.whl.metadata (6.5 kB)\n",
            "Requirement already satisfied: fsspec in /usr/local/lib/python3.11/dist-packages (from gradio-client==1.8.0->gradio) (2025.3.0)\n",
            "Requirement already satisfied: websockets<16.0,>=10.0 in /usr/local/lib/python3.11/dist-packages (from gradio-client==1.8.0->gradio) (14.2)\n",
            "Requirement already satisfied: idna>=2.8 in /usr/local/lib/python3.11/dist-packages (from anyio<5.0,>=3.0->gradio) (3.10)\n",
            "Requirement already satisfied: sniffio>=1.1 in /usr/local/lib/python3.11/dist-packages (from anyio<5.0,>=3.0->gradio) (1.3.1)\n",
            "Requirement already satisfied: certifi in /usr/local/lib/python3.11/dist-packages (from httpx>=0.24.1->gradio) (2025.1.31)\n",
            "Requirement already satisfied: httpcore==1.* in /usr/local/lib/python3.11/dist-packages (from httpx>=0.24.1->gradio) (1.0.7)\n",
            "Requirement already satisfied: h11<0.15,>=0.13 in /usr/local/lib/python3.11/dist-packages (from httpcore==1.*->httpx>=0.24.1->gradio) (0.14.0)\n",
            "Requirement already satisfied: filelock in /usr/local/lib/python3.11/dist-packages (from huggingface-hub>=0.28.1->gradio) (3.18.0)\n",
            "Requirement already satisfied: requests in /usr/local/lib/python3.11/dist-packages (from huggingface-hub>=0.28.1->gradio) (2.32.3)\n",
            "Requirement already satisfied: tqdm>=4.42.1 in /usr/local/lib/python3.11/dist-packages (from huggingface-hub>=0.28.1->gradio) (4.67.1)\n",
            "Requirement already satisfied: python-dateutil>=2.8.2 in /usr/local/lib/python3.11/dist-packages (from pandas<3.0,>=1.0->gradio) (2.8.2)\n",
            "Requirement already satisfied: pytz>=2020.1 in /usr/local/lib/python3.11/dist-packages (from pandas<3.0,>=1.0->gradio) (2025.1)\n",
            "Requirement already satisfied: tzdata>=2022.7 in /usr/local/lib/python3.11/dist-packages (from pandas<3.0,>=1.0->gradio) (2025.1)\n",
            "Requirement already satisfied: annotated-types>=0.6.0 in /usr/local/lib/python3.11/dist-packages (from pydantic>=2.0->gradio) (0.7.0)\n",
            "Requirement already satisfied: pydantic-core==2.27.2 in /usr/local/lib/python3.11/dist-packages (from pydantic>=2.0->gradio) (2.27.2)\n",
            "Requirement already satisfied: click>=8.0.0 in /usr/local/lib/python3.11/dist-packages (from typer<1.0,>=0.12->gradio) (8.1.8)\n",
            "Requirement already satisfied: shellingham>=1.3.0 in /usr/local/lib/python3.11/dist-packages (from typer<1.0,>=0.12->gradio) (1.5.4)\n",
            "Requirement already satisfied: rich>=10.11.0 in /usr/local/lib/python3.11/dist-packages (from typer<1.0,>=0.12->gradio) (13.9.4)\n",
            "Requirement already satisfied: six>=1.5 in /usr/local/lib/python3.11/dist-packages (from python-dateutil>=2.8.2->pandas<3.0,>=1.0->gradio) (1.17.0)\n",
            "Requirement already satisfied: markdown-it-py>=2.2.0 in /usr/local/lib/python3.11/dist-packages (from rich>=10.11.0->typer<1.0,>=0.12->gradio) (3.0.0)\n",
            "Requirement already satisfied: pygments<3.0.0,>=2.13.0 in /usr/local/lib/python3.11/dist-packages (from rich>=10.11.0->typer<1.0,>=0.12->gradio) (2.18.0)\n",
            "Requirement already satisfied: charset-normalizer<4,>=2 in /usr/local/lib/python3.11/dist-packages (from requests->huggingface-hub>=0.28.1->gradio) (3.4.1)\n",
            "Requirement already satisfied: urllib3<3,>=1.21.1 in /usr/local/lib/python3.11/dist-packages (from requests->huggingface-hub>=0.28.1->gradio) (2.3.0)\n",
            "Requirement already satisfied: mdurl~=0.1 in /usr/local/lib/python3.11/dist-packages (from markdown-it-py>=2.2.0->rich>=10.11.0->typer<1.0,>=0.12->gradio) (0.1.2)\n",
            "Downloading gradio-5.22.0-py3-none-any.whl (46.2 MB)\n",
            "\u001b[2K   \u001b[90m━━━━━━━━━━━━━━━━━━━━━━━━━━━━━━━━━━━━━━━━\u001b[0m \u001b[32m46.2/46.2 MB\u001b[0m \u001b[31m20.4 MB/s\u001b[0m eta \u001b[36m0:00:00\u001b[0m\n",
            "\u001b[?25hDownloading gradio_client-1.8.0-py3-none-any.whl (322 kB)\n",
            "\u001b[2K   \u001b[90m━━━━━━━━━━━━━━━━━━━━━━━━━━━━━━━━━━━━━━━━\u001b[0m \u001b[32m322.2/322.2 kB\u001b[0m \u001b[31m23.6 MB/s\u001b[0m eta \u001b[36m0:00:00\u001b[0m\n",
            "\u001b[?25hDownloading aiofiles-23.2.1-py3-none-any.whl (15 kB)\n",
            "Downloading fastapi-0.115.11-py3-none-any.whl (94 kB)\n",
            "\u001b[2K   \u001b[90m━━━━━━━━━━━━━━━━━━━━━━━━━━━━━━━━━━━━━━━━\u001b[0m \u001b[32m94.9/94.9 kB\u001b[0m \u001b[31m8.6 MB/s\u001b[0m eta \u001b[36m0:00:00\u001b[0m\n",
            "\u001b[?25hDownloading groovy-0.1.2-py3-none-any.whl (14 kB)\n",
            "Downloading python_multipart-0.0.20-py3-none-any.whl (24 kB)\n",
            "Downloading ruff-0.11.2-py3-none-manylinux_2_17_x86_64.manylinux2014_x86_64.whl (11.3 MB)\n",
            "\u001b[2K   \u001b[90m━━━━━━━━━━━━━━━━━━━━━━━━━━━━━━━━━━━━━━━━\u001b[0m \u001b[32m11.3/11.3 MB\u001b[0m \u001b[31m80.1 MB/s\u001b[0m eta \u001b[36m0:00:00\u001b[0m\n",
            "\u001b[?25hDownloading safehttpx-0.1.6-py3-none-any.whl (8.7 kB)\n",
            "Downloading semantic_version-2.10.0-py2.py3-none-any.whl (15 kB)\n",
            "Downloading starlette-0.46.1-py3-none-any.whl (71 kB)\n",
            "\u001b[2K   \u001b[90m━━━━━━━━━━━━━━━━━━━━━━━━━━━━━━━━━━━━━━━━\u001b[0m \u001b[32m72.0/72.0 kB\u001b[0m \u001b[31m6.1 MB/s\u001b[0m eta \u001b[36m0:00:00\u001b[0m\n",
            "\u001b[?25hDownloading tomlkit-0.13.2-py3-none-any.whl (37 kB)\n",
            "Downloading uvicorn-0.34.0-py3-none-any.whl (62 kB)\n",
            "\u001b[2K   \u001b[90m━━━━━━━━━━━━━━━━━━━━━━━━━━━━━━━━━━━━━━━━\u001b[0m \u001b[32m62.3/62.3 kB\u001b[0m \u001b[31m5.8 MB/s\u001b[0m eta \u001b[36m0:00:00\u001b[0m\n",
            "\u001b[?25hDownloading ffmpy-0.5.0-py3-none-any.whl (6.0 kB)\n",
            "Downloading pydub-0.25.1-py2.py3-none-any.whl (32 kB)\n",
            "Installing collected packages: pydub, uvicorn, tomlkit, semantic-version, ruff, python-multipart, groovy, ffmpy, aiofiles, starlette, safehttpx, gradio-client, fastapi, gradio\n",
            "Successfully installed aiofiles-23.2.1 fastapi-0.115.11 ffmpy-0.5.0 gradio-5.22.0 gradio-client-1.8.0 groovy-0.1.2 pydub-0.25.1 python-multipart-0.0.20 ruff-0.11.2 safehttpx-0.1.6 semantic-version-2.10.0 starlette-0.46.1 tomlkit-0.13.2 uvicorn-0.34.0\n"
          ]
        }
      ]
    },
    {
      "cell_type": "code",
      "source": [
        "system_prompt = \"\"\"\n",
        "You are an AI assistant that converts job descriptions into structured JSON data to assist recruiters. Your task is to extract key details from a given job description and format them into a JSON object with the following structure:\n",
        "\n",
        "{\n",
        "  \"role_summary\": \"A concise, non-technical summary of the job role. It should describe the primary responsibilities of the role in simple language, avoiding jargon. Focus on what the role does rather than listing requirements.\",\n",
        "  \"key_terms\": [\n",
        "    {\n",
        "      \"term\": \"Technical Term or jargon from the job description\",\n",
        "      \"explanation\": \"A simple explanation of the term in the context of the role. This helps recruiters understand technical jargon without needing domain expertise.\"\n",
        "    }\n",
        "  ],\n",
        "  \"skill_priorities\": {\n",
        "    \"must_have\": [\"List of essential skills required for the role. These are non-negotiable and should be explicitly mentioned in the job description.\"],\n",
        "    \"nice_to_have\": [\"List of preferred skills that are beneficial but not mandatory. These are often marked as 'preferred,' 'a plus,' or 'optional' in the job description.\"]\n",
        "  },\n",
        "  \"proposed_screening_questions_with_answers\": [\n",
        "    {\n",
        "      \"question\": \"A role-specific question to assess candidate expertise. The question should focus on technical skills, problem-solving, or past experiences relevant to the role.\",\n",
        "      \"example_answer\": \"An example of a strong candidate response to the question. The answer should demonstrate technical depth, problem-solving, and relevance to the role.\"\n",
        "    }\n",
        "  ],\n",
        "  \"red_flags\": [\n",
        "    \"Indicators of potential mismatches for the role, offering actionable insights for recruiters based on the job offer. Examples include 'Avoid candidates without cloud experience'.\"\n",
        "  ],\n",
        "  \"confidence_score\": \"A numerical score between 0 and 100 indicating the model's confidence in the accuracy of its analysis.\"\n",
        "}\n",
        "\n",
        "Guidelines:\n",
        "- Ensure the role summary is written in simple, non-technical language, focusing on primary responsibilities rather than qualifications.\n",
        "- Extract key technical terms and provide clear, non-technical explanations.\n",
        "- Identify and categorize skills into 'must-have' and 'nice-to-have' based on explicit mentions in the job description.\n",
        "- Generate screening questions that assess relevant competencies and provide an example of a strong answer.\n",
        "- Highlight red flags that indicate potential mismatches, ensuring they are actionable.\n",
        "- Assign a confidence score (0-100) reflecting the reliability of the extracted insights.\n",
        "\n",
        "Output only the JSON object without additional text.\n",
        "\n",
        "\"\"\""
      ],
      "metadata": {
        "id": "mbFIu8BmE9y0"
      },
      "execution_count": null,
      "outputs": []
    },
    {
      "cell_type": "code",
      "source": [
        "import json\n",
        "import gradio as gr\n",
        "\n",
        "# Define your model and API keys\n",
        "llama3_model = 'llama3-70b-8192'\n",
        "key_1 = userdata.get('ahmed92_groq_key')\n",
        "key_2 = userdata.get('hamza_groq')\n",
        "key_3 = userdata.get('tunDC_groq')\n",
        "api_keys_list = [key_3]\n",
        "\n",
        "\n",
        "# Updated Wrapper function for Gradio\n",
        "def analyze_job(job_desc):\n",
        "    # Call the analysis function\n",
        "    analysis_text = analyze_job_with_retries(job_desc, system_prompt, llama3_model, api_keys_list)\n",
        "\n",
        "    # Parse the JSON string into a Python dictionary\n",
        "    try:\n",
        "        analysis = json.loads(analysis_text)\n",
        "    except json.JSONDecodeError as e:\n",
        "        return f\"Error parsing JSON: {e}\", \"\", \"\", \"\", \"\", \"\", \"\"\n",
        "\n",
        "    # Format the output for Gradio\n",
        "    role_summary = analysis[\"role_summary\"]\n",
        "\n",
        "    # Format key terms as HTML cards\n",
        "    key_terms = \"\".join([\n",
        "        f\"\"\"\n",
        "        <div class=\"term-card\">\n",
        "            <div style=\"font-weight: 600; color: #2b5876;\">{term['term']}</div>\n",
        "            <div style=\"color: #6c757d; margin-top: 0.25rem;\">{term['explanation']}</div>\n",
        "        </div>\n",
        "        \"\"\"\n",
        "        for term in analysis[\"key_terms\"]\n",
        "    ])\n",
        "\n",
        "    must_have_skills = \"\\n\".join(analysis[\"skill_priorities\"][\"must_have\"])\n",
        "    nice_to_have_skills = \"\\n\".join(analysis[\"skill_priorities\"][\"nice_to_have\"])\n",
        "\n",
        "    # Format screening questions as Q&A pairs\n",
        "    screening_questions = \"\".join([\n",
        "        f\"\"\"\n",
        "        <div class=\"qa-pair\">\n",
        "            <div class=\"qa-question\">\n",
        "                <span style=\"font-size: 1.1em;\">❓</span>\n",
        "                {q['question']}\n",
        "            </div>\n",
        "            <div class=\"qa-answer\">\n",
        "                <span style=\"font-size: 1.1em;\">💡</span>\n",
        "                {q['example_answer']}\n",
        "            </div>\n",
        "        </div>\n",
        "        \"\"\"\n",
        "        for q in analysis[\"proposed_screening_questions_with_answers\"]\n",
        "    ])\n",
        "\n",
        "    red_flags = \"\\n\".join(analysis[\"red_flags\"])\n",
        "    confidence_score = f\"**Confidence Score**: {analysis['confidence_score']}%\"\n",
        "\n",
        "    return role_summary, key_terms, must_have_skills, nice_to_have_skills, screening_questions, red_flags, confidence_score\n",
        "\n",
        "# Gradio Interface\n",
        "custom_css = \"\"\"\n",
        "#jd-container {background: #f8f9fa; padding: 2rem; border-radius: 15px; box-shadow: 0 4px 6px rgba(0,0,0,0.1);}\n",
        ".header-section {background: linear-gradient(135deg, #2b5876 0%, #4e4376 100%); padding: 2rem; color: white; border-radius: 15px;}\n",
        ".result-card {background: white; padding: 1.5rem; margin: 1rem 0; border-radius: 10px; box-shadow: 0 2px 4px rgba(0,0,0,0.05);}\n",
        ".confidence-badge {background: #4CAF50!important; color: white!important; padding: 0.5rem 1rem!important; border-radius: 20px!important;}\n",
        ".term-card {background: #ffffff; padding: 1rem; margin: 0.5rem 0; border-radius: 8px; border-left: 4px solid #2b5876; box-shadow: 0 2px 4px rgba(0,0,0,0.05); transition: transform 0.2s ease;}\n",
        ".term-card:hover {transform: translateY(-2px);}\n",
        ".qa-pair {background: #f8f9fa; padding: 1.25rem; margin: 1rem 0; border-radius: 10px; border: 1px solid #e9ecef;}\n",
        ".qa-question {color: #2b5876; font-weight: 600; margin-bottom: 0.5rem; display: flex; align-items: center; gap: 0.5rem;}\n",
        ".qa-answer {color: #6c757d; padding-left: 1.5rem; border-left: 2px solid #dee2e6; margin-left: 1rem; display: flex; gap: 0.5rem;}\n",
        ".qa-container {padding: 1rem 0;}\n",
        "\"\"\"\n",
        "\n",
        "with gr.Blocks(css=custom_css, theme=gr.themes.Default(primary_hue=\"blue\", secondary_hue=\"slate\")) as demo:\n",
        "    with gr.Column(elem_id=\"main-container\"):\n",
        "        gr.Markdown(\"\"\"\n",
        "        <div class=\"header-section\">\n",
        "            <h1 style=\"margin: 0; font-weight: 800;\">🔍 Job Description Analyzer</h1>\n",
        "            <p style=\"margin: 0.5rem 0 0; opacity: 0.9;\">AI-powered analysis for better hiring decisions</p>\n",
        "        </div>\n",
        "        \"\"\")\n",
        "\n",
        "        with gr.Row():\n",
        "            with gr.Column(elem_id=\"jd-container\"):\n",
        "                job_desc = gr.Textbox(label=\"📋 Paste Job Description\",\n",
        "                                     lines=18,\n",
        "                                     placeholder=\"\"\"Example:\n",
        "• 5+ years experience in full-stack development\n",
        "• Proficiency in Python and JavaScript\n",
        "• Familiarity with cloud platforms (AWS preferred)\n",
        "• Excellent communication skills\"\"\",\n",
        "                                     elem_classes=\"input-box\")\n",
        "\n",
        "                analyze_button = gr.Button(\n",
        "                                          value=\"Analyze Now\",  # Button text\n",
        "                                          variant=\"primary\",   # Primary style\n",
        "                                          size=\"lg\",           # Large size\n",
        "                                      )\n",
        "\n",
        "            with gr.Column():\n",
        "                with gr.Tab(\"📌 Key Insights\"):\n",
        "                    role_summary = gr.Textbox(label=\"📄 Role Summary\", lines=4)\n",
        "                    gr.Markdown(\"### 🔑 Key Terms & Concepts\")\n",
        "                    key_terms = gr.HTML(label=\"\")  # Changed to HTML component\n",
        "                    confidence_score = gr.Markdown(label=\"📊 Confidence Score\")\n",
        "\n",
        "                with gr.Tab(\"💼 Skills & Requirements\"):\n",
        "                    with gr.Row():\n",
        "                        must_have_skills = gr.Textbox(label=\"✅ Must-Have Skills\", lines=8,\n",
        "                                                     elem_classes=\"result-card\")\n",
        "                        nice_to_have_skills = gr.Textbox(label=\"✨ Nice-to-Have Skills\", lines=8,\n",
        "                                                        elem_classes=\"result-card\")\n",
        "\n",
        "                with gr.Tab(\"❓ Screening Questions\"):\n",
        "                    gr.Markdown(\"### Suggested Interview Questions\")\n",
        "                    screening_questions = gr.HTML(label=\"\",\n",
        "                                                 elem_classes=\"qa-container\")  # Changed to HTML component\n",
        "\n",
        "                with gr.Tab(\"🚩 Red Flags\"):\n",
        "                    red_flags = gr.Textbox(label=\"Potential Warning Signs\", lines=6,\n",
        "                                          elem_classes=\"result-card\")\n",
        "\n",
        "    # Connect the button to the function\n",
        "    analyze_button.click(\n",
        "        analyze_job,\n",
        "        inputs=job_desc,\n",
        "        outputs=[role_summary, key_terms, must_have_skills, nice_to_have_skills, screening_questions, red_flags, confidence_score]\n",
        "    )\n",
        "\n",
        "# Launch the app\n",
        "demo.launch(debug=True)"
      ],
      "metadata": {
        "colab": {
          "base_uri": "https://localhost:8080/",
          "height": 680
        },
        "id": "Jr3ZpKeDQaRQ",
        "outputId": "823c7105-044d-4b09-bde8-52d54329247b"
      },
      "execution_count": null,
      "outputs": [
        {
          "output_type": "stream",
          "name": "stdout",
          "text": [
            "Running Gradio in a Colab notebook requires sharing enabled. Automatically setting `share=True` (you can turn this off by setting `share=False` in `launch()` explicitly).\n",
            "\n",
            "Colab notebook detected. This cell will run indefinitely so that you can see errors and logs. To turn off, set debug=False in launch().\n",
            "* Running on public URL: https://3eb3f6c825f993cbd5.gradio.live\n",
            "\n",
            "This share link expires in 72 hours. For free permanent hosting and GPU upgrades, run `gradio deploy` from the terminal in the working directory to deploy to Hugging Face Spaces (https://huggingface.co/spaces)\n"
          ]
        },
        {
          "output_type": "display_data",
          "data": {
            "text/plain": [
              "<IPython.core.display.HTML object>"
            ],
            "text/html": [
              "<div><iframe src=\"https://3eb3f6c825f993cbd5.gradio.live\" width=\"100%\" height=\"500\" allow=\"autoplay; camera; microphone; clipboard-read; clipboard-write;\" frameborder=\"0\" allowfullscreen></iframe></div>"
            ]
          },
          "metadata": {}
        },
        {
          "output_type": "stream",
          "name": "stdout",
          "text": [
            "Keyboard interruption in main thread... closing server.\n",
            "Killing tunnel 127.0.0.1:7861 <> https://3eb3f6c825f993cbd5.gradio.live\n"
          ]
        },
        {
          "output_type": "execute_result",
          "data": {
            "text/plain": []
          },
          "metadata": {},
          "execution_count": 34
        }
      ]
    },
    {
      "cell_type": "code",
      "source": [],
      "metadata": {
        "id": "sFgPDuDKQaT7"
      },
      "execution_count": null,
      "outputs": []
    },
    {
      "cell_type": "code",
      "source": [],
      "metadata": {
        "id": "Ka5yyTRSQaWE"
      },
      "execution_count": null,
      "outputs": []
    },
    {
      "cell_type": "code",
      "source": [],
      "metadata": {
        "id": "HtTvvO0bQaYX"
      },
      "execution_count": null,
      "outputs": []
    },
    {
      "cell_type": "code",
      "source": [],
      "metadata": {
        "id": "yzLr4AuXQaae"
      },
      "execution_count": null,
      "outputs": []
    },
    {
      "cell_type": "code",
      "source": [],
      "metadata": {
        "id": "DT3j6DZqQac4"
      },
      "execution_count": null,
      "outputs": []
    }
  ]
}